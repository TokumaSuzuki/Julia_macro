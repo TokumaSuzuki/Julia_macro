{
 "cells": [
  {
   "cell_type": "markdown",
   "metadata": {},
   "source": [
    "# Optimal Growth Model using Endogenous grid method.\n",
    "EGM is faster than smart VFI if the grid size is larger than roughly 300 for my little experience. It means we should use EGM, if we consider stochastic dynamic programming.\n",
    "\n",
    "This explanation is  my reminder and may have some mistakes.\n",
    "- What is Endogenous Grid Method(EGM)?\n",
    "\n",
    "In many solution methods, we discretize **state space**. \n",
    "\n",
    "However, we discretize **choice space** in EGM and compute state value under grid for optimal choice.\n",
    "\n",
    "This method uses Euler equation. So it is similar to Time Iteration method.\n",
    "\n",
    "What we do is the following step.\n",
    "    1. discretize tomorrow's capital grid and guess policy function(from wealth to k')\n",
    "    2. compute today's wealth using Euler equation.\n",
    "    3. update guess and iterate until it converges.\n",
    "    \n",
    " **IMPORTANT!!**\n",
    " \n",
    " If we use EGM, we can avoid  to use nonlinear solver in iteration.\n",
    " We need to use nonlinear solver just once after iteration is finished.\n",
    " \n",
    " This property makes run time faster than ever."
   ]
  },
  {
   "cell_type": "markdown",
   "metadata": {},
   "source": [
    "## Theory\n",
    "We assume marginal utility function is invertible.\n",
    "\n",
    "- Consider Euler equation\n",
    "\n",
    "$$u'(c) = \\beta u'(c')[f'(k')+(1-\\delta)]$$\n",
    "\n",
    "- Use the resource constraint $c +k' = f(k) +(1-\\delta)k$, and policy $p(k')=k^{\\prime\\prime}$\n",
    "\n",
    "\n",
    "\n",
    "$$u'(c) =\\beta u'(f(k')+(1-\\delta)k' -p(k'))[f'(k') +(1-\\delta)]$$\n",
    "\n",
    "- Consumption can be written as \n",
    "\n",
    "$$c =u^{\\prime -1}\\left[ \\beta u'\\left(f(k')+(1-\\delta)k' -p(k')\\right)[f'(k') +(1-\\delta)]\\right]$$\n",
    "\n",
    "- Combine this with resource constraint,\n",
    "\n",
    "$$u^{\\prime -1}\\left[ \\beta u'\\left(f(k')+(1-\\delta)k' -p(k')\\right)[f'(k') +(1-\\delta)]\\right] + k' = f(k) + (1-\\delta)k$$\n",
    "\n",
    "\n",
    "To avoid root finding, we consider the total resource as a state variable.\n",
    "\n",
    "We define wealth as $w = f(k) +(1-\\delta)k$ and consider policy function maps wealth to capital choice,\n",
    "$k' = p(w)$.\n",
    "\n",
    "- Rearrange equation (4) using wealth notation and new policy function\n",
    "\n",
    "\n",
    "$$k' +u^{\\prime -1}\\left[ \\beta u'\\left(w' -p(w')\\right)[f'(k') +(1-\\delta)]\\right] = w$$\n"
   ]
  },
  {
   "cell_type": "markdown",
   "metadata": {},
   "source": [
    "## EGM Algorithm\n",
    "\n",
    "### Set up the situation\n",
    "1. discretize choice state K' =$[K'_1, ...,K'_n]$\n",
    "2. guess policy function from wealth to capital in the next period.: $p:[w_1, ....w_n] →[K'_1,...,K'_n] $\n",
    "3. set maximum number of iteration and error tolerance\n",
    "\n",
    "### Iteration\n",
    "1. For all $1\\le j \\le n$ , set $k' = K'_j$ and  $w' = f(k')+(1-\\delta)k$ and \n",
    "compute today's wealth given policy and tomorrow's capital\n",
    "\n",
    "$$w_j = k' +u^{\\prime -1}\\left[ \\beta u'\\left(w' -p(w')\\right)[f'(k') +(1-\\delta)]\\right]$$\n",
    "\n",
    "**Reminder**: Our policy guess' domain is **today's wealth**, so we need to reevaluate **tomorrow's wealth** \n",
    "\n",
    "2. update policy and compute error\n",
    "\n",
    "3. if error < tolerance, iteration is over. otherwise, continue iteration. \n",
    "\n",
    "**For my understanding**\n",
    "\n",
    "Policy function can be determined implicitly. This is because we compute today's wealth by using exogenous tomorrow's capital grid and  this relationship between wealth and capial is a policy function. So update policy means  update today's wealth grid."
   ]
  },
  {
   "cell_type": "code",
   "execution_count": 1,
   "metadata": {},
   "outputs": [
    {
     "data": {
      "text/plain": [
       "Plots.PyPlotBackend()"
      ]
     },
     "execution_count": 1,
     "metadata": {},
     "output_type": "execute_result"
    }
   ],
   "source": [
    "using QuantEcon\n",
    "using Roots\n",
    "using BenchmarkTools\n",
    "using Plots\n",
    "pyplot()"
   ]
  },
  {
   "cell_type": "code",
   "execution_count": 2,
   "metadata": {},
   "outputs": [
    {
     "data": {
      "text/plain": [
       "Model"
      ]
     },
     "execution_count": 2,
     "metadata": {},
     "output_type": "execute_result"
    }
   ],
   "source": [
    "mutable struct Model{TI<:Integer, TF<:AbstractFloat}\n",
    "    β::TF\n",
    "    γ::TF\n",
    "    δ::TF\n",
    "    α::TF\n",
    "    nk::TI\n",
    "    kpgrid::Array{TF,1}\n",
    "    wgrid ::Array{TF,1}\n",
    "    u::Function\n",
    "    u′::Function\n",
    "    u′_inv::Function\n",
    "    f::Function\n",
    "    f′::Function\n",
    "end\n",
    "\n",
    "function Model(β=0.95, # subjective discount factor\n",
    "                γ=2.0, # risk aversion\n",
    "                δ=0.1, # depriciation rate\n",
    "                α=0.33, # capital share\n",
    "                nk=250,# Number of grid point\n",
    "                )\n",
    "    \n",
    "    # set utility function\n",
    "    u(c::Float64) = (c^(1.0-γ))/(1.0-γ)\n",
    "    u′(c::Float64) = c^(-γ)\n",
    "    u′_inv(val::Float64) = val^(-1.0/γ)\n",
    "    # production function\n",
    "    f(k::Float64) =  k^α \n",
    "    f′(k::Float64) = α*k^(α-1.0) \n",
    "    \n",
    "    \n",
    "\n",
    "    #create capital grid\n",
    "    kstar=((1.0/β-(1-δ))/α)^(1.0/(α-1.0)) #steady state capital stock\n",
    "    kmin = 0.1*kstar # minimal capital stock\n",
    "    kmax = 2.0*kstar # maximal capital stock\n",
    "    kpgrid = collect(linspace(kmin,kmax,nk)) # capital grid in the next period\n",
    "\n",
    "    #create cash in hand grid \n",
    "    wmin = f(kmin) + (1-δ)*kmin # minimal wealth\n",
    "    wmax = f(kmax) + (1-δ)*kmax # maximal wealth\n",
    "    wgrid = collect(linspace(wmin,wmax,nk)) # create grid between w_min and w_max with nk gridpoints\n",
    "\n",
    "    if γ == 1.0   # when γ==1.0, we assume log utility \n",
    "        u_log(c) = log(c)\n",
    "        m = Model(β, γ, δ, α, nk, kpgrid, wgrid, u_log, u′,u′_inv, f, f′)\n",
    "    else\n",
    "        m = Model(β, γ, δ, α, nk, kpgrid, wgrid, u, u′,u′_inv , f,  f′)\n",
    "    end\n",
    "    \n",
    "    return m\n",
    "end"
   ]
  },
  {
   "cell_type": "code",
   "execution_count": 3,
   "metadata": {},
   "outputs": [
    {
     "data": {
      "text/plain": [
       "Model{Int64,Float64}(0.95, 2.0, 0.1, 0.33, 250, [0.316086, 0.340205, 0.364324, 0.388443, 0.412562, 0.436681, 0.4608, 0.484919, 0.509038, 0.533157  …  6.10465, 6.12877, 6.15289, 6.17701, 6.20113, 6.22524, 6.24936, 6.27348, 6.2976, 6.32172], [0.968288, 0.994629, 1.02097, 1.04731, 1.07365, 1.09999, 1.12634, 1.15268, 1.17902, 1.20536  …  7.29018, 7.31652, 7.34286, 7.36921, 7.39555, 7.42189, 7.44823, 7.47457, 7.50091, 7.52725], u, u′, u′_inv, f, f′)"
      ]
     },
     "execution_count": 3,
     "metadata": {},
     "output_type": "execute_result"
    }
   ],
   "source": [
    "m = Model()"
   ]
  },
  {
   "cell_type": "code",
   "execution_count": 4,
   "metadata": {},
   "outputs": [
    {
     "data": {
      "text/plain": [
       "EGM (generic function with 1 method)"
      ]
     },
     "execution_count": 4,
     "metadata": {},
     "output_type": "execute_result"
    }
   ],
   "source": [
    "function EGM(m::Model)\n",
    "    const β = m.β\n",
    "    const γ = m.γ\n",
    "    const δ = m.δ\n",
    "    const α = m.α\n",
    "    const nk = m.nk\n",
    "    kpgrid = m.kpgrid\n",
    "    wgrid  = m.wgrid\n",
    "    u = m.u\n",
    "    u′= m.u′\n",
    "    u′_inv = m.u′_inv\n",
    "    f = m.f\n",
    "    f′= m.f′\n",
    "\n",
    "    Tw::Array{Float64,1} = zeros(nk)\n",
    "    const tol_it = 1e-5 \n",
    "    const maxiter = 10000\n",
    "    \n",
    "    #wp::Float64 =0.0\n",
    "    wp::Array{Float64,1} = zeros(nk)\n",
    "    #kp::Float64 =0.0\n",
    "    \n",
    "    for iter in 1:maxiter    \n",
    "        p = LinInterp(wgrid, kpgrid)\n",
    "        \n",
    "        # Vectorize code This is faster than loop.\n",
    "        wp .= f.(kpgrid) +(1.0-δ)*kpgrid\n",
    "        Tw .= kpgrid .+ u′_inv.(β*u′.(wp-p.(wp)).*(f′.(kpgrid) +(1.0 -δ)))\n",
    "        \n",
    "        #for i in 1:nk # loop over all gridpoints\n",
    "        #    kp =  kpgrid[i] # read grid point to be considered\n",
    "            # compute tomorrow's wealth\n",
    "        #    wp  = f(kp)+(1.0-δ)*kp\n",
    "            # get today's wealth w from choice kp\n",
    "        #    @inbounds Tw[i] = kp + u′_inv(β*u′(wp-p(wp))*(f′(kp) +(1.0 -δ)))\n",
    "        #end\n",
    "        \n",
    "\n",
    "        # Calculate error\n",
    "        error_it=maximum(abs.(wgrid-Tw))/(maximum(abs.(wgrid)))\n",
    "        # Update policy\n",
    "        wgrid=copy(Tw)\n",
    "        \n",
    "        if error_it < tol_it\n",
    "            break\n",
    "        end\n",
    "    \n",
    "    end\n",
    "    \n",
    "    #Compute today's capital grid that is endogenously determined.\n",
    "    kend = zeros(nk) \n",
    "    \n",
    "    for i in 1:nk\n",
    "        object(x) = wgrid[i] - x^α -(1.0-δ)*x \n",
    "        @inbounds kend[i]= newton(object,kpgrid[i])\n",
    "    end\n",
    "    itp = LinInterp(kend,kpgrid)\n",
    "    policy = itp.(kpgrid) # policy function \n",
    "    # we can consider kpgrid as today's capital grid.\n",
    "    \n",
    "    return wgrid,kpgrid,policy\n",
    "end\n"
   ]
  },
  {
   "cell_type": "code",
   "execution_count": 5,
   "metadata": {},
   "outputs": [
    {
     "data": {
      "text/plain": [
       "([0.700506, 0.738619, 0.776187, 0.813267, 0.849904, 0.886139, 0.922006, 0.957535, 0.992751, 1.02768  …  7.67631, 7.70344, 7.73057, 7.7577, 7.78481, 7.81193, 7.83903, 7.86613, 7.89323, 7.92032], [0.316086, 0.340205, 0.364324, 0.388443, 0.412562, 0.436681, 0.4608, 0.484919, 0.509038, 0.533157  …  6.10465, 6.12877, 6.15289, 6.17701, 6.20113, 6.22524, 6.24936, 6.27348, 6.2976, 6.32172], [0.492232, 0.518679, 0.544821, 0.57069, 0.596314, 0.621715, 0.646916, 0.671934, 0.696783, 0.721479  …  5.78027, 5.80161, 5.82294, 5.84427, 5.8656, 5.88693, 5.90826, 5.92959, 5.95092, 5.97224])"
      ]
     },
     "execution_count": 5,
     "metadata": {},
     "output_type": "execute_result"
    }
   ],
   "source": [
    "wgrid, kgrid, pol_k = EGM(m)"
   ]
  },
  {
   "cell_type": "code",
   "execution_count": 6,
   "metadata": {},
   "outputs": [
    {
     "name": "stdout",
     "output_type": "stream",
     "text": [
      "  0.017660 seconds (34.49 k allocations: 2.297 MiB)\n"
     ]
    }
   ],
   "source": [
    "@time EGM(m);"
   ]
  },
  {
   "cell_type": "code",
   "execution_count": 7,
   "metadata": {},
   "outputs": [
    {
     "data": {
      "text/html": [
       "<img src=\"data:image/png;base64,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\" />"
      ]
     },
     "execution_count": 7,
     "metadata": {},
     "output_type": "execute_result"
    }
   ],
   "source": [
    "plot(kgrid,pol_k, color=\"blue\", label=\"Policy Function\")\n",
    "plot!(kgrid,kgrid, color=\"red\", label=\"45 degree Line\")"
   ]
  },
  {
   "cell_type": "code",
   "execution_count": 8,
   "metadata": {},
   "outputs": [
    {
     "data": {
      "text/plain": [
       "BenchmarkTools.Trial: \n",
       "  memory estimate:  2.29 MiB\n",
       "  allocs estimate:  34407\n",
       "  --------------\n",
       "  minimum time:     13.414 ms (0.00% GC)\n",
       "  median time:      26.399 ms (0.00% GC)\n",
       "  mean time:        27.433 ms (3.40% GC)\n",
       "  maximum time:     47.667 ms (0.00% GC)\n",
       "  --------------\n",
       "  samples:          183\n",
       "  evals/sample:     1"
      ]
     },
     "execution_count": 8,
     "metadata": {},
     "output_type": "execute_result"
    }
   ],
   "source": [
    "@benchmark EGM(m) "
   ]
  }
 ],
 "metadata": {
  "kernelspec": {
   "display_name": "Julia 0.6.2",
   "language": "julia",
   "name": "julia-0.6"
  },
  "language_info": {
   "file_extension": ".jl",
   "mimetype": "application/julia",
   "name": "julia",
   "version": "0.6.2"
  },
  "latex_envs": {
   "LaTeX_envs_menu_present": true,
   "autoclose": true,
   "autocomplete": true,
   "bibliofile": "biblio.bib",
   "cite_by": "apalike",
   "current_citInitial": 1,
   "eqLabelWithNumbers": true,
   "eqNumInitial": 1,
   "hotkeys": {
    "equation": "Ctrl-E",
    "itemize": "Ctrl-I"
   },
   "labels_anchors": false,
   "latex_user_defs": false,
   "report_style_numbering": false,
   "user_envs_cfg": false
  },
  "toc": {
   "nav_menu": {},
   "number_sections": true,
   "sideBar": true,
   "skip_h1_title": false,
   "title_cell": "Table of Contents",
   "title_sidebar": "Contents",
   "toc_cell": false,
   "toc_position": {},
   "toc_section_display": true,
   "toc_window_display": false
  },
  "varInspector": {
   "cols": {
    "lenName": 16,
    "lenType": 16,
    "lenVar": 40
   },
   "kernels_config": {
    "python": {
     "delete_cmd_postfix": "",
     "delete_cmd_prefix": "del ",
     "library": "var_list.py",
     "varRefreshCmd": "print(var_dic_list())"
    },
    "r": {
     "delete_cmd_postfix": ") ",
     "delete_cmd_prefix": "rm(",
     "library": "var_list.r",
     "varRefreshCmd": "cat(var_dic_list()) "
    }
   },
   "types_to_exclude": [
    "module",
    "function",
    "builtin_function_or_method",
    "instance",
    "_Feature"
   ],
   "window_display": false
  }
 },
 "nbformat": 4,
 "nbformat_minor": 2
}
