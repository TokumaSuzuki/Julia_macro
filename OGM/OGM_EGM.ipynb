{
 "cells": [
  {
   "cell_type": "markdown",
   "metadata": {},
   "source": [
    "# Optimal Growth Model using Endogenous grid method.\n",
    "EGM is faster than smart VFI if the grid size is larger than roughly 300 for my little experience. It means we should use EGM, if we consider stochastic dynamic programming.\n",
    "\n",
    "This explanation is  my reminder and may have some mistakes.\n",
    "- What is Endogenous Grid Method(EGM)?\n",
    "\n",
    "In many solution methods, we discretize **state space**. \n",
    "\n",
    "However, we discretize **choice space** in EGM and compute state value under grid for optimal choice.\n",
    "\n",
    "This method uses Euler equation. So it is similar to Time Iteration method.\n",
    "\n",
    "What we do is the following step.\n",
    "    1. discretize tomorrow's capital grid and guess policy function(from wealth to k')\n",
    "    2. compute today's wealth using Euler equation.\n",
    "    3. update guess and iterate until it converges.\n",
    "    \n",
    " **IMPORTANT!!**\n",
    " \n",
    " If we use EGM, we can avoid  to use nonlinear solver in iteration.\n",
    " We need to use nonlinear solver just once after iteration is finished.\n",
    " \n",
    " This property makes run time faster than ever."
   ]
  },
  {
   "cell_type": "markdown",
   "metadata": {},
   "source": [
    "## Theory\n",
    "We assume marginal utility function is invertible.\n",
    "\n",
    "- Consider Euler equation\n",
    "\n",
    "$$u'(c) = \\beta u'(c')[f'(k')+(1-\\delta)]$$\n",
    "\n",
    "- Use the resource constraint $c +k' = f(k) +(1-\\delta)k$, and policy $p(k')=k^{\\prime\\prime}$\n",
    "\n",
    "\n",
    "\n",
    "$$u'(c) =\\beta u'(f(k')+(1-\\delta)k' -p(k'))[f'(k') +(1-\\delta)]$$\n",
    "\n",
    "- Consumption can be written as \n",
    "\n",
    "$$c =u^{\\prime -1}\\left[ \\beta u'\\left(f(k')+(1-\\delta)k' -p(k')\\right)[f'(k') +(1-\\delta)]\\right]$$\n",
    "\n",
    "- Combine this with resource constraint,\n",
    "\n",
    "$$u^{\\prime -1}\\left[ \\beta u'\\left(f(k')+(1-\\delta)k' -p(k')\\right)[f'(k') +(1-\\delta)]\\right] + k' = f(k) + (1-\\delta)k$$\n",
    "\n",
    "\n",
    "To avoid root finding, we consider the total resource as a state variable.\n",
    "\n",
    "We define wealth as $w = f(k) +(1-\\delta)k$ and consider policy function maps wealth to capital choice,\n",
    "$k' = p(w)$.\n",
    "\n",
    "- Rearrange equation (4) using wealth notation and new policy function\n",
    "\n",
    "\n",
    "$$k' +u^{\\prime -1}\\left[ \\beta u'\\left(w' -p(w')\\right)[f'(k') +(1-\\delta)]\\right] = w$$\n"
   ]
  },
  {
   "cell_type": "markdown",
   "metadata": {},
   "source": [
    "## EGM Algorithm\n",
    "\n",
    "### Set up the situation\n",
    "1. discretize choice state K' =$[K'_1, ...,K'_n]$\n",
    "2. guess policy function from wealth to capital in the next period.: $p:[w_1, ....w_n] →[K'_1,...,K'_n] $\n",
    "3. set maximum number of iteration and error tolerance\n",
    "\n",
    "### Iteration\n",
    "1. For all $1\\le j \\le n$ , set $k' = K'_j$ and  $w' = f(k')+(1-\\delta)k$ and \n",
    "compute today's wealth given policy and tomorrow's capital\n",
    "\n",
    "$$w_j = k' +u^{\\prime -1}\\left[ \\beta u'\\left(w' -p(w')\\right)[f'(k') +(1-\\delta)]\\right]$$\n",
    "\n",
    "**Reminder**: Our policy guess' domain is **today's wealth**, so we need to reevaluate **tomorrow's wealth** \n",
    "\n",
    "2. update policy and compute error\n",
    "\n",
    "3. if error < tolerance, iteration is over. otherwise, continue iteration. \n",
    "\n",
    "**For my understanding**\n",
    "\n",
    "Policy function can be determined implicitly. This is because we compute today's wealth by using exogenous tomorrow's capital grid and  this relationship between wealth and capial is a policy function. So update policy means  update today's wealth grid."
   ]
  },
  {
   "cell_type": "code",
   "execution_count": 1,
   "metadata": {},
   "outputs": [
    {
     "data": {
      "text/plain": [
       "Plots.PyPlotBackend()"
      ]
     },
     "execution_count": 1,
     "metadata": {},
     "output_type": "execute_result"
    }
   ],
   "source": [
    "using QuantEcon\n",
    "using Roots\n",
    "using BenchmarkTools\n",
    "using Plots\n",
    "pyplot()"
   ]
  },
  {
   "cell_type": "code",
   "execution_count": 2,
   "metadata": {},
   "outputs": [
    {
     "data": {
      "text/plain": [
       "Model"
      ]
     },
     "execution_count": 2,
     "metadata": {},
     "output_type": "execute_result"
    }
   ],
   "source": [
    "mutable struct Model{TI<:Integer, TF<:AbstractFloat}\n",
    "    β::TF\n",
    "    γ::TF\n",
    "    δ::TF\n",
    "    α::TF\n",
    "    nk::TI\n",
    "    kpgrid::Array{TF,1}\n",
    "    wgrid ::Array{TF,1}\n",
    "    u::Function\n",
    "    u′::Function\n",
    "    u′_inv::Function\n",
    "    f::Function\n",
    "    f′::Function\n",
    "end\n",
    "\n",
    "function Model(β=0.95, # subjective discount factor\n",
    "                γ=2.0, # risk aversion\n",
    "                δ=0.1, # depriciation rate\n",
    "                α=0.33, # capital share\n",
    "                nk=250,# Number of grid point\n",
    "                )\n",
    "    \n",
    "    # set utility function\n",
    "    u(c::Float64) = (c^(1.0-γ))/(1.0-γ)\n",
    "    u′(c::Float64) = c^(-γ)\n",
    "    u′_inv(val::Float64) = val^(-1.0/γ)\n",
    "    # production function\n",
    "    f(k::Float64) =  k^α \n",
    "    f′(k::Float64) = α*k^(α-1.0) \n",
    "    \n",
    "    \n",
    "\n",
    "    #create capital grid\n",
    "    kstar=((1.0/β-(1-δ))/α)^(1.0/(α-1.0)) #steady state capital stock\n",
    "    kmin = 0.1*kstar # minimal capital stock\n",
    "    kmax = 2.0*kstar # maximal capital stock\n",
    "    kpgrid = collect(linspace(kmin,kmax,nk)) # capital grid in the next period\n",
    "\n",
    "    #create cash in hand grid \n",
    "    wmin = f(kmin) + (1-δ)*kmin # minimal wealth\n",
    "    wmax = f(kmax) + (1-δ)*kmax # maximal wealth\n",
    "    wgrid = collect(linspace(wmin,wmax,nk)) # create grid between w_min and w_max with nk gridpoints\n",
    "\n",
    "    if γ == 1.0   # when γ==1.0, we assume log utility \n",
    "        u_log(c) = log(c)\n",
    "        m = Model(β, γ, δ, α, nk, kpgrid, wgrid, u_log, u′,u′_inv, f, f′)\n",
    "    else\n",
    "        m = Model(β, γ, δ, α, nk, kpgrid, wgrid, u, u′,u′_inv , f,  f′)\n",
    "    end\n",
    "    \n",
    "    return m\n",
    "end"
   ]
  },
  {
   "cell_type": "code",
   "execution_count": 3,
   "metadata": {},
   "outputs": [
    {
     "data": {
      "text/plain": [
       "Model{Int64,Float64}(0.95, 2.0, 0.1, 0.33, 250, [0.316086, 0.340205, 0.364324, 0.388443, 0.412562, 0.436681, 0.4608, 0.484919, 0.509038, 0.533157  …  6.10465, 6.12877, 6.15289, 6.17701, 6.20113, 6.22524, 6.24936, 6.27348, 6.2976, 6.32172], [0.968288, 0.994629, 1.02097, 1.04731, 1.07365, 1.09999, 1.12634, 1.15268, 1.17902, 1.20536  …  7.29018, 7.31652, 7.34286, 7.36921, 7.39555, 7.42189, 7.44823, 7.47457, 7.50091, 7.52725], u, u′, u′_inv, f, f′)"
      ]
     },
     "execution_count": 3,
     "metadata": {},
     "output_type": "execute_result"
    }
   ],
   "source": [
    "m = Model()"
   ]
  },
  {
   "cell_type": "code",
   "execution_count": 4,
   "metadata": {},
   "outputs": [
    {
     "data": {
      "text/plain": [
       "EGM (generic function with 1 method)"
      ]
     },
     "execution_count": 4,
     "metadata": {},
     "output_type": "execute_result"
    }
   ],
   "source": [
    "function EGM(m::Model)\n",
    "    const β = m.β\n",
    "    const γ = m.γ\n",
    "    const δ = m.δ\n",
    "    const α = m.α\n",
    "    const nk = m.nk\n",
    "    kpgrid = m.kpgrid\n",
    "    wgrid  = m.wgrid\n",
    "    u = m.u\n",
    "    u′= m.u′\n",
    "    u′_inv = m.u′_inv\n",
    "    f = m.f\n",
    "    f′= m.f′\n",
    "\n",
    "    Tw::Array{Float64,1} = zeros(nk)\n",
    "    const tol_it = 1e-5 \n",
    "    const maxiter = 10000\n",
    "    \n",
    "    #wp::Float64 =0.0\n",
    "    wp::Array{Float64,1} = zeros(nk)\n",
    "    #kp::Float64 =0.0\n",
    "    \n",
    "    for iter in 1:maxiter    \n",
    "        p = LinInterp(wgrid, kpgrid)\n",
    "        \n",
    "        # Vectorize code This is faster than loop.\n",
    "        wp .= f.(kpgrid) +(1.0-δ)*kpgrid\n",
    "        Tw .= kpgrid .+ u′_inv.(β*u′.(wp-p.(wp)).*(f′.(kpgrid) +(1.0 -δ)))\n",
    "        \n",
    "        #for i in 1:nk # loop over all gridpoints\n",
    "        #    kp =  kpgrid[i] # read grid point to be considered\n",
    "            # compute tomorrow's wealth\n",
    "        #    wp  = f(kp)+(1.0-δ)*kp\n",
    "            # get today's wealth w from choice kp\n",
    "        #    @inbounds Tw[i] = kp + u′_inv(β*u′(wp-p(wp))*(f′(kp) +(1.0 -δ)))\n",
    "        #end\n",
    "        \n",
    "\n",
    "        # Calculate error\n",
    "        error_it=maximum(abs.(wgrid-Tw))/(maximum(abs.(wgrid)))\n",
    "        # Update policy\n",
    "        wgrid=copy(Tw)\n",
    "        \n",
    "        if error_it < tol_it\n",
    "            break\n",
    "        end\n",
    "    \n",
    "    end\n",
    "    \n",
    "    #Compute today's capital grid \n",
    "    kgrid = zeros(nk) \n",
    "    \n",
    "    for i in 1:nk\n",
    "        object(x) = wgrid[i] - x^α -(1.0-δ)*x \n",
    "        @inbounds kgrid[i]= newton(object,kpgrid[i])\n",
    "    end\n",
    "    \n",
    "    return wgrid,kpgrid,kgrid\n",
    "end\n"
   ]
  },
  {
   "cell_type": "code",
   "execution_count": 5,
   "metadata": {},
   "outputs": [
    {
     "data": {
      "text/plain": [
       "([0.700506, 0.738619, 0.776187, 0.813267, 0.849904, 0.886139, 0.922006, 0.957535, 0.992751, 1.02768  …  7.67631, 7.70344, 7.73057, 7.7577, 7.78481, 7.81193, 7.83903, 7.86613, 7.89323, 7.92032], [0.316086, 0.340205, 0.364324, 0.388443, 0.412562, 0.436681, 0.4608, 0.484919, 0.509038, 0.533157  …  6.10465, 6.12877, 6.15289, 6.17701, 6.20113, 6.22524, 6.24936, 6.27348, 6.2976, 6.32172], [0.16511, 0.184533, 0.204422, 0.22473, 0.245419, 0.266453, 0.287804, 0.309444, 0.33135, 0.353502  …  6.4715, 6.49879, 6.52608, 6.55337, 6.58067, 6.60796, 6.63526, 6.66256, 6.68986, 6.71716])"
      ]
     },
     "execution_count": 5,
     "metadata": {},
     "output_type": "execute_result"
    }
   ],
   "source": [
    "wgrid, kpgrid,kgrid = EGM(m)"
   ]
  },
  {
   "cell_type": "code",
   "execution_count": 6,
   "metadata": {},
   "outputs": [
    {
     "name": "stdout",
     "output_type": "stream",
     "text": [
      "  0.016381 seconds (34.49 k allocations: 2.295 MiB)\n"
     ]
    }
   ],
   "source": [
    "@time EGM(m);"
   ]
  },
  {
   "cell_type": "code",
   "execution_count": 7,
   "metadata": {},
   "outputs": [
    {
     "data": {
      "text/html": [
       "<img src=\"data:image/png;base64,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\" />"
      ]
     },
     "execution_count": 7,
     "metadata": {},
     "output_type": "execute_result"
    }
   ],
   "source": [
    "plot(kgrid,kpgrid, color=\"blue\", label=\"Policy Function\")\n",
    "plot!(kgrid,kgrid, color=\"red\", label=\"45 degree Line\")"
   ]
  },
  {
   "cell_type": "code",
   "execution_count": 8,
   "metadata": {},
   "outputs": [
    {
     "data": {
      "text/plain": [
       "BenchmarkTools.Trial: \n",
       "  memory estimate:  2.29 MiB\n",
       "  allocs estimate:  34405\n",
       "  --------------\n",
       "  minimum time:     17.263 ms (0.00% GC)\n",
       "  median time:      20.023 ms (0.00% GC)\n",
       "  mean time:        21.279 ms (3.51% GC)\n",
       "  maximum time:     32.780 ms (0.00% GC)\n",
       "  --------------\n",
       "  samples:          236\n",
       "  evals/sample:     1"
      ]
     },
     "execution_count": 8,
     "metadata": {},
     "output_type": "execute_result"
    }
   ],
   "source": [
    "@benchmark EGM(m) "
   ]
  }
 ],
 "metadata": {
  "kernelspec": {
   "display_name": "Julia 0.6.2",
   "language": "julia",
   "name": "julia-0.6"
  },
  "language_info": {
   "file_extension": ".jl",
   "mimetype": "application/julia",
   "name": "julia",
   "version": "0.6.2"
  },
  "latex_envs": {
   "LaTeX_envs_menu_present": true,
   "autoclose": true,
   "autocomplete": true,
   "bibliofile": "biblio.bib",
   "cite_by": "apalike",
   "current_citInitial": 1,
   "eqLabelWithNumbers": true,
   "eqNumInitial": 1,
   "hotkeys": {
    "equation": "Ctrl-E",
    "itemize": "Ctrl-I"
   },
   "labels_anchors": false,
   "latex_user_defs": false,
   "report_style_numbering": false,
   "user_envs_cfg": false
  },
  "toc": {
   "nav_menu": {},
   "number_sections": true,
   "sideBar": true,
   "skip_h1_title": false,
   "title_cell": "Table of Contents",
   "title_sidebar": "Contents",
   "toc_cell": false,
   "toc_position": {},
   "toc_section_display": true,
   "toc_window_display": false
  },
  "varInspector": {
   "cols": {
    "lenName": 16,
    "lenType": 16,
    "lenVar": 40
   },
   "kernels_config": {
    "python": {
     "delete_cmd_postfix": "",
     "delete_cmd_prefix": "del ",
     "library": "var_list.py",
     "varRefreshCmd": "print(var_dic_list())"
    },
    "r": {
     "delete_cmd_postfix": ") ",
     "delete_cmd_prefix": "rm(",
     "library": "var_list.r",
     "varRefreshCmd": "cat(var_dic_list()) "
    }
   },
   "types_to_exclude": [
    "module",
    "function",
    "builtin_function_or_method",
    "instance",
    "_Feature"
   ],
   "window_display": false
  }
 },
 "nbformat": 4,
 "nbformat_minor": 2
}
