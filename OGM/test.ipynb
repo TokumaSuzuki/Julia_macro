{
 "cells": [
  {
   "cell_type": "markdown",
   "metadata": {},
   "source": [
    "# Stochastic growth model using EGM\n",
    "test code"
   ]
  },
  {
   "cell_type": "code",
   "execution_count": 2,
   "metadata": {},
   "outputs": [],
   "source": [
    "using Interpolations\n",
    "using Roots"
   ]
  },
  {
   "cell_type": "code",
   "execution_count": 3,
   "metadata": {
    "code_folding": []
   },
   "outputs": [
    {
     "data": {
      "text/plain": [
       "interp1 (generic function with 1 method)"
      ]
     },
     "execution_count": 3,
     "metadata": {},
     "output_type": "execute_result"
    }
   ],
   "source": [
    "function interp1(xpt, ypt, x; method=\"linear\", extrapvalue=nothing)\n",
    "\n",
    "    \"\"\"\n",
    "    This function needs Interpolations and works like interp1 in MATLAB.\n",
    "    If you want to input array{Float64,1} as xpt, choose \"linear\"\n",
    "\n",
    "    Input\n",
    "        xpt: grid\n",
    "        ypt: vector that we want to interpolate\n",
    "        x: evaluation point\n",
    "        method: \"linear\" or \"cubic\"\n",
    "        extravalue: default is nothing\n",
    "\n",
    "    Return\n",
    "        y: interpolated function\n",
    "    \"\"\"\n",
    "\n",
    "    if extrapvalue == nothing\n",
    "        y = zeros(x)\n",
    "        idx = trues(x)\n",
    "    else\n",
    "        y = extrapvalue*ones(x)\n",
    "        idx = (x .>= xpt[1]) .& (x .<= xpt[end])\n",
    "    end\n",
    "\n",
    "    if method == \"linear\"\n",
    "        intf = interpolate((xpt,), ypt, Gridded(Linear()))\n",
    "        y[idx] = intf[x[idx]]\n",
    "\n",
    "    elseif method == \"cubic\"\n",
    "        itp = interpolate(ypt, BSpline(Cubic(Natural())), OnGrid())\n",
    "        intf = Interpolations.scale(itp, xpt)\n",
    "        y[idx] = [intf[xi] for xi in x[idx]]\n",
    "    end\n",
    "\n",
    "    return y\n",
    "end\n"
   ]
  },
  {
   "cell_type": "code",
   "execution_count": 4,
   "metadata": {
    "code_folding": []
   },
   "outputs": [
    {
     "data": {
      "text/plain": [
       "main (generic function with 1 method)"
      ]
     },
     "execution_count": 4,
     "metadata": {},
     "output_type": "execute_result"
    }
   ],
   "source": [
    "## Basic RBC model with full depreciation using Endogenous grid method\n",
    "\n",
    "# Parameters are based on Aruoba and Fernandez(2014)\n",
    "\n",
    "# Need following packages.\n",
    "#using Interpolations\n",
    "#using Roots\n",
    "#include(\"interp1.jl\")\n",
    "\n",
    "\n",
    "function main()\n",
    "\n",
    "    ##  1. Calibration\n",
    "\n",
    "    α = 1/3    # Elasticity of output w.r.t. capital\n",
    "    β = 0.95    # Discount factor\n",
    "\n",
    "    # Productivity values\n",
    "    zgrid = [0.9792 0.9896 1.0000 1.0106 1.0212]\n",
    "    # This value is already transiformed by exp\n",
    "\n",
    "    # Transition matrix\n",
    "    Π             = [0.9727 0.0273 0.0000 0.0000 0.0000;\n",
    "                     0.0041 0.9806 0.0153 0.0000 0.0000;\n",
    "                     0.0000 0.0082 0.9837 0.0082 0.0000;\n",
    "                     0.0000 0.0000 0.0153 0.9806 0.0041;\n",
    "                     0.0000 0.0000 0.0000 0.0273 0.9727]\n",
    "\n",
    "    # 2. Steady State\n",
    "\n",
    "    k_ss = (α*β)^(1/(1-α))\n",
    "    y_ss = k_ss^α\n",
    "    c_ss =y_ss - k_ss\n",
    "\n",
    "    println(\"Output = $y_ss, Capital = $k_ss, Consumption = $c_ss\")\n",
    "\n",
    "    # We generate the grid of capital in the next period\n",
    "    step = 0.00001\n",
    "    kgrid = collect(0.5*k_ss:step:1.5*k_ss) # G_{k_{t+1}} in the paper\n",
    "    #kgrid = collect(linspace(0.5*k_ss,1.5*k_ss,10))\n",
    "\n",
    "\n",
    "    nk = length(kgrid)\n",
    "    nz = length(zgrid)\n",
    "    \n",
    " \n",
    "    # Generate grid of market resorces\n",
    "    cih =  (kgrid.^α)*zgrid #(1.0-δ)*kgrid needed for the basic setting.\n",
    "\n",
    "    # Define utility function\n",
    "    u(c) = log(c)\n",
    "    u′(c) = 1/c\n",
    "    u′_inv(val) = 1/val\n",
    "\n",
    "    ############################################################################\n",
    "    ## 1. Guess Ṽ0(k_{t+1},z_t) = βEV(k_{t+1},z_{t+1})\n",
    "    ############################################################################\n",
    "\n",
    "\n",
    "    ṽ0 = zeros(nk,nz)\n",
    "    #ṽ0 has to be increasing in capital\n",
    "    value_init = u(c_ss)\n",
    "    for i in 1:nk\n",
    "        @views @inbounds ṽ0[i,:] = (1.0/(1.0-β))*value_init + i/nk\n",
    "    end\n",
    "    \n",
    "    # Initialization\n",
    "    ṽ1 = similar(ṽ0)\n",
    "    D_ṽ0 = similar(ṽ0)\n",
    "    c = similar(ṽ0)\n",
    "    yend = similar(ṽ0)\n",
    "    V0 = similar(ṽ0)\n",
    "    V1 = similar(ṽ0)\n",
    "\n",
    "\n",
    "    # Iteration settings\n",
    "    const maxiter = 10000\n",
    "    const tol = 1e-7\n",
    "\n",
    "    #### Start iteration\n",
    "    for iter in 1: maxiter\n",
    "        ############################################################################\n",
    "        ## 2. Compute the derivative to obtain ṽ_k0,optimal consumption\n",
    "        ###########################################################################\n",
    "\n",
    "        @views @inbounds D_ṽ0[1,:] = (ṽ0[2,:] - ṽ0[1,:])/step\n",
    "        @views @inbounds D_ṽ0[end,:] = (ṽ0[end,:]-ṽ0[end-1,:])/step\n",
    "        for i in 2:nk-1\n",
    "            @views @inbounds D_ṽ0[i,:] =(ṽ0[i+1,:]-ṽ0[i-1,:])/(2.0*step)\n",
    "        end\n",
    "        \n",
    "        #println(\"Derivetive is $D_ṽ0\")\n",
    "        c = u′_inv.(D_ṽ0)\n",
    "        #println(\"optimal consumption is $c\")\n",
    "\n",
    "        ########################################################################\n",
    "        ## 3. Update the value function.\n",
    "        ##    Compute endogenously determined market resorces as yend(kend_t,z_t)\n",
    "        ##    kend is k_t that is endogenously determined\n",
    "        ########################################################################\n",
    "        V0 = u.(c) + ṽ0 #普通のv \n",
    "\n",
    "        # need to evaluate Value as a function of cash in hand but not yend\n",
    "\n",
    "        for z in 1:nz\n",
    "            @views @inbounds yend[:,z] = c[:,z] + kgrid\n",
    "            @views @inbounds V1[:,z] = interp1(yend[:,z],V0[:,z],cih[:,z], method=\"linear\")\n",
    "        end\n",
    "\n",
    "\n",
    "        ########################################################################\n",
    "        # 4. Compute ṽ^{n+1} = βEV^{n+1}(Y_{t+1},z_{t+1})\n",
    "        ########################################################################\n",
    "        ṽ1 = β*(V1*Π')\n",
    "\n",
    "        ########################################################################\n",
    "        # 5. Compute error\n",
    "        ########################################################################\n",
    "        err = maximum(abs.(ṽ1-ṽ0))\n",
    "        ṽ0 = copy(ṽ1)\n",
    "        if err < tol\n",
    "            break\n",
    "        end\n",
    "\n",
    "    end\n",
    "    #### End of iteration.\n",
    "    println(\"Loop is Finished\")\n",
    "    ############################################################################\n",
    "    # 6. Use a nonlinear solver to get kend_t(z_t)\n",
    "    #    RECALL! kend is k_t that is endogenously determined\n",
    "    ############################################################################\n",
    "    # To get kend_t, we need to define function like resorce constraint\n",
    "    kend = copy(yend)\n",
    "    println(\"yend = $yend\")\n",
    "    for i in 1:nk\n",
    "        #test = kgrid[i]\n",
    "        for z in 1:nz\n",
    "        #    @inbounds kend[i,z] = mynewton(yend[i,z],zgrid[z],α,test)\n",
    "            @inbounds egm_f(x) = yend[i,z] - zgrid[z]*x^α\n",
    "            @inbounds kend[i,z] = fzero(egm_f,kgrid[i])\n",
    "        end\n",
    "\n",
    "    end\n",
    "\n",
    "    # compare the results to the standard algorithm, we need interpolation.\n",
    "    value =similar(kend)\n",
    "    grid_k = similar(kend) # policy function for capital\n",
    "    grid_c= similar(kend) # policy function for consumption\n",
    "\n",
    "    for z in 1:nz\n",
    "        @views @inbounds value[:,z] = interp1(kend[:,z],V0[:,i],kgrid,method=\"linear\")\n",
    "        @views @inbounds grid_k = interp1(kend[:,z],kgrid,kgrid,method=\"linear\")\n",
    "        @views @inbounds grid_c[:,z] = interp1(kend[:,z],c[:,z],kgrid,method=\"linear\" )\n",
    "    end\n",
    "    println(\"computation is finished\")\n",
    "    return value, grid_k, grid_c,kgrid\n",
    "end\n"
   ]
  },
  {
   "cell_type": "code",
   "execution_count": 5,
   "metadata": {},
   "outputs": [
    {
     "name": "stdout",
     "output_type": "stream",
     "text": [
      "Output = 0.5627314338711378, Capital = 0.178198287392527, Consumption = 0.3845331464786108\n",
      "Loop is Finished\n"
     ]
    },
    {
     "name": "stderr",
     "output_type": "stream",
     "text": [
      "Excessive output truncated after 809903 bytes."
     ]
    },
    {
     "ename": "LoadError",
     "evalue": "DomainError:\nExponentiation yielding a complex result requires a complex argument.\nReplace x^y with (x+0im)^y, Complex(x)^y, or similar.",
     "output_type": "error",
     "traceback": [
      "DomainError:\nExponentiation yielding a complex result requires a complex argument.\nReplace x^y with (x+0im)^y, Complex(x)^y, or similar.",
      "",
      "Stacktrace:",
      " [1] \u001b[1mnan_dom_err\u001b[22m\u001b[22m at \u001b[1m.\\math.jl:300\u001b[22m\u001b[22m [inlined]",
      " [2] \u001b[1m^\u001b[22m\u001b[22m at \u001b[1m.\\math.jl:699\u001b[22m\u001b[22m [inlined]",
      " [3] \u001b[1m(::#egm_f#9{Float64,Array{Float64,2}})\u001b[22m\u001b[22m\u001b[1m(\u001b[22m\u001b[22m::Float64\u001b[1m)\u001b[22m\u001b[22m at \u001b[1m.\\In[4]:139\u001b[22m\u001b[22m",
      " [4] \u001b[1mupdate_state\u001b[22m\u001b[22m\u001b[1m(\u001b[22m\u001b[22m::Roots.Order0, ::Roots.DerivativeFree{Float64}, ::Roots.UnivariateZeroStateBase{Float64,Float64}, ::Roots.UnivariateZeroOptions{Float64}\u001b[1m)\u001b[22m\u001b[22m at \u001b[1mC:\\\\\\\\\\\\\\\\\\\\\\\\\\\\\\\\\\\\\\\\\\\\\\\\\\\\\\\\\\\\\\\\\\\\\\\\\\\\\\\\\\\\\\\\\\\\\\\\\\\\\\\\\\\\Users\\suzuki\\AppData\\Local\\JuliaPro-0.6.2.1\\pkgs-0.6.2.1\\v0.6\\Roots\\src\\derivative_free.jl:130\u001b[22m\u001b[22m",
      " [5] \u001b[1mfind_zero\u001b[22m\u001b[22m\u001b[1m(\u001b[22m\u001b[22m::Roots.Order0, ::Roots.DerivativeFree{Float64}, ::Roots.UnivariateZeroStateBase{Float64,Float64}, ::Roots.UnivariateZeroOptions{Float64}\u001b[1m)\u001b[22m\u001b[22m at \u001b[1mC:\\\\\\\\\\\\\\\\\\\\\\\\\\\\\\\\\\\\\\\\\\\\\\\\\\\\\\\\\\\\\\\\\\\\\\\\\\\\\\\\\\\\\\\\\\\\\\\\\\\\\\\\\\\\Users\\suzuki\\AppData\\Local\\JuliaPro-0.6.2.1\\pkgs-0.6.2.1\\v0.6\\Roots\\src\\find_zero.jl:321\u001b[22m\u001b[22m",
      " [6] \u001b[1m#find_zero#14\u001b[22m\u001b[22m\u001b[1m(\u001b[22m\u001b[22m::Array{Any,1}, ::Function, ::Roots.Order0, ::Roots.DerivativeFree{Float64}, ::Float64\u001b[1m)\u001b[22m\u001b[22m at \u001b[1mC:\\\\\\\\\\\\\\\\\\\\\\\\\\\\\\\\\\\\\\\\\\\\\\\\\\\\\\\\\\\\\\\\\\\\\\\\\\\\\\\\\\\\\\\\\\\\\\\\\\\\\\\\\\\\Users\\suzuki\\AppData\\Local\\JuliaPro-0.6.2.1\\pkgs-0.6.2.1\\v0.6\\Roots\\src\\find_zero.jl:428\u001b[22m\u001b[22m",
      " [7] \u001b[1m#find_zero#10\u001b[22m\u001b[22m\u001b[1m(\u001b[22m\u001b[22m::Array{Any,1}, ::Function, ::Function, ::Float64, ::Roots.Order0\u001b[1m)\u001b[22m\u001b[22m at \u001b[1mC:\\\\\\\\\\\\\\\\\\\\\\\\\\\\\\\\\\\\\\\\\\\\\\\\\\\\\\\\\\\\\\\\\\\\\\\\\\\\\\\\\\\\\\\\\\\\\\\\\\\\\\\\\\\\Users\\suzuki\\AppData\\Local\\JuliaPro-0.6.2.1\\pkgs-0.6.2.1\\v0.6\\Roots\\src\\find_zero.jl:414\u001b[22m\u001b[22m",
      " [8] \u001b[1mfind_zero\u001b[22m\u001b[22m\u001b[1m(\u001b[22m\u001b[22m::Function, ::Float64, ::Roots.Order0\u001b[1m)\u001b[22m\u001b[22m at \u001b[1mC:\\\\\\\\\\\\\\\\\\\\\\\\\\\\\\\\\\\\\\\\\\\\\\\\\\\\\\\\\\\\\\\\\\\\\\\\\\\\\\\\\\\\\\\\\\\\\\\\\\\\\\\\\\\\Users\\suzuki\\AppData\\Local\\JuliaPro-0.6.2.1\\pkgs-0.6.2.1\\v0.6\\Roots\\src\\find_zero.jl:414\u001b[22m\u001b[22m",
      " [9] \u001b[1m#derivative_free#15\u001b[22m\u001b[22m\u001b[1m(\u001b[22m\u001b[22m::Int64, ::Array{Any,1}, ::Function, ::Function, ::Float64\u001b[1m)\u001b[22m\u001b[22m at \u001b[1mC:\\\\\\\\\\\\\\\\\\\\\\\\\\\\\\\\\\\\\\\\\\\\\\\\\\\\\\\\\\\\\\\\\\\\\\\\\\\\\\\\\\\\\\\\\\\\\\\\\\\\\\\\\\\\Users\\suzuki\\AppData\\Local\\JuliaPro-0.6.2.1\\pkgs-0.6.2.1\\v0.6\\Roots\\src\\find_zero.jl:457\u001b[22m\u001b[22m",
      " [10] \u001b[1mderivative_free\u001b[22m\u001b[22m\u001b[1m(\u001b[22m\u001b[22m::Function, ::Float64\u001b[1m)\u001b[22m\u001b[22m at \u001b[1mC:\\\\\\\\\\\\\\\\\\\\\\\\\\\\\\\\\\\\\\\\\\\\\\\\\\\\\\\\\\\\\\\\\\\\\\\\\\\\\\\\\\\\\\\\\\\\\\\\\\\\\\\\\\\\Users\\suzuki\\AppData\\Local\\JuliaPro-0.6.2.1\\pkgs-0.6.2.1\\v0.6\\Roots\\src\\find_zero.jl:440\u001b[22m\u001b[22m",
      " [11] \u001b[1m#fzero#55\u001b[22m\u001b[22m\u001b[1m(\u001b[22m\u001b[22m::Array{Any,1}, ::Function, ::Function, ::Float64\u001b[1m)\u001b[22m\u001b[22m at \u001b[1mC:\\\\\\\\\\\\\\\\\\\\\\\\\\\\\\\\\\\\\\\\\\\\\\\\\\\\\\\\\\\\\\\\\\\\\\\\\\\\\\\\\\\\\\\\\\\\\\\\\\\\\\\\\\\\Users\\suzuki\\AppData\\Local\\JuliaPro-0.6.2.1\\pkgs-0.6.2.1\\v0.6\\Roots\\src\\Roots.jl:60\u001b[22m\u001b[22m",
      " [12] \u001b[1mfzero\u001b[22m\u001b[22m\u001b[1m(\u001b[22m\u001b[22m::Function, ::Float64\u001b[1m)\u001b[22m\u001b[22m at \u001b[1mC:\\\\\\\\\\\\\\\\\\\\\\\\\\\\\\\\\\\\\\\\\\\\\\\\\\\\\\\\\\\\\\\\\\\\\\\\\\\\\\\\\\\\\\\\\\\\\\\\\\\\\\\\\\\\Users\\suzuki\\AppData\\Local\\JuliaPro-0.6.2.1\\pkgs-0.6.2.1\\v0.6\\Roots\\src\\Roots.jl:58\u001b[22m\u001b[22m",
      " [13] \u001b[1mmain\u001b[22m\u001b[22m\u001b[1m(\u001b[22m\u001b[22m\u001b[1m)\u001b[22m\u001b[22m at \u001b[1m.\\In[4]:140\u001b[22m\u001b[22m",
      " [14] \u001b[1minclude_string\u001b[22m\u001b[22m\u001b[1m(\u001b[22m\u001b[22m::String, ::String\u001b[1m)\u001b[22m\u001b[22m at \u001b[1m.\\loading.jl:522\u001b[22m\u001b[22m"
     ]
    }
   ],
   "source": [
    "v, pol_k,pol_c,kgrid = main()"
   ]
  },
  {
   "cell_type": "code",
   "execution_count": null,
   "metadata": {},
   "outputs": [],
   "source": []
  }
 ],
 "metadata": {
  "kernelspec": {
   "display_name": "Julia 0.6.2",
   "language": "julia",
   "name": "julia-0.6"
  },
  "language_info": {
   "file_extension": ".jl",
   "mimetype": "application/julia",
   "name": "julia",
   "version": "0.6.2"
  },
  "latex_envs": {
   "LaTeX_envs_menu_present": true,
   "autoclose": true,
   "autocomplete": true,
   "bibliofile": "biblio.bib",
   "cite_by": "apalike",
   "current_citInitial": 1,
   "eqLabelWithNumbers": true,
   "eqNumInitial": 1,
   "hotkeys": {
    "equation": "Ctrl-E",
    "itemize": "Ctrl-I"
   },
   "labels_anchors": false,
   "latex_user_defs": false,
   "report_style_numbering": false,
   "user_envs_cfg": false
  },
  "toc": {
   "nav_menu": {},
   "number_sections": true,
   "sideBar": true,
   "skip_h1_title": false,
   "title_cell": "Table of Contents",
   "title_sidebar": "Contents",
   "toc_cell": false,
   "toc_position": {},
   "toc_section_display": true,
   "toc_window_display": false
  },
  "varInspector": {
   "cols": {
    "lenName": 16,
    "lenType": 16,
    "lenVar": 40
   },
   "kernels_config": {
    "python": {
     "delete_cmd_postfix": "",
     "delete_cmd_prefix": "del ",
     "library": "var_list.py",
     "varRefreshCmd": "print(var_dic_list())"
    },
    "r": {
     "delete_cmd_postfix": ") ",
     "delete_cmd_prefix": "rm(",
     "library": "var_list.r",
     "varRefreshCmd": "cat(var_dic_list()) "
    }
   },
   "types_to_exclude": [
    "module",
    "function",
    "builtin_function_or_method",
    "instance",
    "_Feature"
   ],
   "window_display": false
  }
 },
 "nbformat": 4,
 "nbformat_minor": 2
}
