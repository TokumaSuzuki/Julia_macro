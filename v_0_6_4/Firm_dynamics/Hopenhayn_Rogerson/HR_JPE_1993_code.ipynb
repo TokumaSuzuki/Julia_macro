{
 "cells": [
  {
   "cell_type": "markdown",
   "metadata": {},
   "source": [
    "# Hopenhayn and Rogerson (1993) \n",
    "\n",
    "This notebook provides my code to find the stationary equilibrium of HR model.\n",
    "\n",
    "Calibration is based on my note.\n",
    "\n",
    "\n",
    "Since we don't consider adjustment cost, a state variable is only productivity shock.\n",
    "\n",
    "\n",
    "- Main function: Compute_HR\n",
    "- struct: Model, contains params"
   ]
  },
  {
   "cell_type": "code",
   "execution_count": 1,
   "metadata": {},
   "outputs": [],
   "source": [
    "struct Model\n",
    "    \n",
    "    # Hopenhayn and Rogerson 1993\n",
    "    # store  model parameters\n",
    "    β::Float64 # discount factor\n",
    "    θ::Float64 # labor share\n",
    "    A::Float64 # disutility from labor (- aN_t)\n",
    "    cf::Float64 # fixed operation cost\n",
    "    ce::Float64 # one time fixed entry cost\n",
    "    sgrid::Array{Float64,1} ## productivy shock grid\n",
    "    ns::Int64 # number of shock grid\n",
    "    F::Array{Float64,2} ## transition probability\n",
    "    ν::Array{Float64,1} # entry distrinution\n",
    "    ndemand::Function\n",
    "    f::Function\n",
    "    maxiter::Int64 # maximum number of iteration\n",
    "    tol::Float64 # tolerance\n",
    "end"
   ]
  },
  {
   "cell_type": "code",
   "execution_count": 2,
   "metadata": {},
   "outputs": [
    {
     "data": {
      "text/plain": [
       "Construct (generic function with 1 method)"
      ]
     },
     "execution_count": 2,
     "metadata": {},
     "output_type": "execute_result"
    }
   ],
   "source": [
    "function Construct()\n",
    "    \n",
    "    #primitive params \n",
    "    \n",
    "    β = 0.8 # discount factor\n",
    "    θ = 0.64 # labor share\n",
    "    sgrid = [3.98e-4, 3.58, 6.82, 12.18, 18.79] # productivity shock grid\n",
    "    ns = length(sgrid) # number of shock grid\n",
    "    F = [0.6598 0.2600 0.0416 0.0331 0.0055;\n",
    "         0.1997 0.7201 0.0420 0.0326 0.0056;\n",
    "         0.2000 0.2000 0.5555 0.0344 0.0101;\n",
    "         0.2000 0.2000 0.2502 0.3397 0.0101;\n",
    "         0.2000 0.2000 0.2500 0.3400 0.0100] # transition matrix\n",
    "    ν = [0.37, 0.4631, 0.1102, 0.0504, 0.0063] # invariant distribution\n",
    "    # Here invariant distribution is given.\n",
    "    # However, we can obtain this value using F.\n",
    "\n",
    "\n",
    "    ndemand(p,s,θ)=(θ*p*s)^(1.0/(1.0-θ)) # labor demand function via FOC\n",
    "    f(s,n,θ)= s*(n^θ) # production function\n",
    "    A = 1.0/200.0 # parameter that determine disutility from labor \n",
    "    cf = 10.0 # fixed cost for operation\n",
    "    ce = 15.0 # fixed cost for entry\n",
    "    \n",
    "    maxiter = 10000 # maximum number of iteration\n",
    "    tol =1e-5 # tolerance\n",
    "    \n",
    "    return model = Model(β, θ, A, cf, ce, sgrid, ns, F, ν, ndemand, f, maxiter, tol)\n",
    "end"
   ]
  },
  {
   "cell_type": "code",
   "execution_count": 3,
   "metadata": {},
   "outputs": [
    {
     "data": {
      "text/plain": [
       "ComputeHR (generic function with 1 method)"
      ]
     },
     "execution_count": 3,
     "metadata": {},
     "output_type": "execute_result"
    }
   ],
   "source": [
    "function ComputeHR(m::Model)\n",
    "    \n",
    "    \"\"\"\n",
    "    This function is a main function of Hopenhayn and Rogerson(1993).\n",
    "    \n",
    "    Arguments:\n",
    "    \n",
    "    m: struct that contains parameters and iteration settings.\n",
    "    \n",
    "    Return:\n",
    "    \n",
    "    p:    Equilibrium price, Float64\n",
    "    dlab: Labor demand, Float64\n",
    "    slab: Labor supply, Float64\n",
    "    μ:   Stationary distribution for firms, Array{Float64,1}\n",
    "    M:    Mass of entrants, Float64\n",
    "    \"\"\"\n",
    "\n",
    "    # Step 1. Compute equilibrium price\n",
    "    \n",
    "    p,X = Find_price(m)\n",
    "    \n",
    "    # Step 2. Find invariant distribution and aggregate labor\n",
    "    \n",
    "    dlab::Float64=0.0\n",
    "    slab::Float64=0.0\n",
    "    \n",
    "    dlab,slab,μ,M = Find_labor(m,p,X) \n",
    "    \n",
    "    return p,dlab,slab,μ, M\n",
    "end"
   ]
  },
  {
   "cell_type": "code",
   "execution_count": 4,
   "metadata": {},
   "outputs": [
    {
     "data": {
      "text/plain": [
       "Find_price (generic function with 1 method)"
      ]
     },
     "execution_count": 4,
     "metadata": {},
     "output_type": "execute_result"
    }
   ],
   "source": [
    "function Find_price(m::Model)\n",
    "    \"\"\"\n",
    "    This function computes equilibrium price by bisection method.\n",
    "    \n",
    "    Arguments:\n",
    "    \n",
    "    m: Struct that contains parameters and iteration settings\n",
    "\n",
    "    \n",
    "    Return:\n",
    "    p: Equilibrium price, Float64\n",
    "    W: Converged value function, Array{Float64,1}\n",
    "    X: Policy function for entry-exit decision, Array{Float64,1}\n",
    "    \"\"\"\n",
    "    \n",
    "    p_lower = 0.0 # lower bound for p\n",
    "    p_upper = 100.0 # upper bound for p\n",
    "    \n",
    "    p = 0.5*p_lower+ 0.5*p_upper\n",
    "  \n",
    "    # preallocate \n",
    "    X = zeros(m.ns)\n",
    "    W = zeros(m.ns)\n",
    "\n",
    "\n",
    "    @inbounds for price_iter in 1:m.maxiter\n",
    "\n",
    "        # Find decision rules and value functions\n",
    "\n",
    "        W,X= VFI_incumbents(m,p) \n",
    "        We = Bellman_entrant(m,p,W)\n",
    "       \n",
    "        # Check free entry condition.\n",
    "\n",
    "        FEC = Check_free_entry(m,p,We)\n",
    "        \n",
    "        # Check free entry condition and update price\n",
    "        \n",
    "        if abs(FEC) < m.tol\n",
    "            break\n",
    "        end\n",
    "\n",
    "        if FEC > 0.0\n",
    "            p_upper = p # lower price\n",
    "\n",
    "        elseif FEC < 0.0\n",
    "            p_lower = p　# raise price\n",
    "        end\n",
    "    \n",
    "        # update price     \n",
    "        p = 0.5*p_lower + 0.5*p_upper\n",
    "\n",
    "    end\n",
    "    \n",
    "    return p, X,W\n",
    "end"
   ]
  },
  {
   "cell_type": "code",
   "execution_count": 5,
   "metadata": {},
   "outputs": [
    {
     "data": {
      "text/plain": [
       "VFI_incumbents (generic function with 1 method)"
      ]
     },
     "execution_count": 5,
     "metadata": {},
     "output_type": "execute_result"
    }
   ],
   "source": [
    "function VFI_incumbents(m::Model, p)\n",
    "    \"\"\"\n",
    "    This function does value function iteration for the value function of incumbents\n",
    "    \n",
    "    Arguments:\n",
    "    \n",
    "    m: Struct that contains parameters and iteration settings\n",
    "    p: price, Float64\n",
    "    \n",
    "    Return:\n",
    "    \n",
    "    W: Converged value function, Array{Float64,1}\n",
    "    X: Policy function for entry-exit decision\n",
    "\n",
    "    \"\"\"\n",
    "\n",
    "    W = zeros(m.ns) # initial guess for value function\n",
    "    X = zeros(m.ns) # store entry-exit policy function\n",
    "\n",
    "    @inbounds for VFI_iter in 1:m.maxiter\n",
    "        \n",
    "        TW, X = Bellman_incumbent(m,p,W)     \n",
    "        err = maximum(abs.(TW-W))\n",
    "        W = copy(TW)\n",
    "        \n",
    "        if err < m.tol\n",
    "            break\n",
    "        end\n",
    "    end\n",
    "        \n",
    "    return W, X\n",
    "end"
   ]
  },
  {
   "cell_type": "code",
   "execution_count": 6,
   "metadata": {},
   "outputs": [
    {
     "data": {
      "text/plain": [
       "Bellman_incumbent (generic function with 1 method)"
      ]
     },
     "execution_count": 6,
     "metadata": {},
     "output_type": "execute_result"
    }
   ],
   "source": [
    "function Bellman_incumbent(m::Model,p, W)\n",
    "    \n",
    "    \"\"\"\n",
    "    This function computes value function of incumbents\n",
    "    \n",
    "    Arguments:\n",
    "    \n",
    "    m: Struct that contains parameters and iteration settings\n",
    "    p: price, Float64\n",
    "    W: Guessed value function of incumbents, Array{Float64,1}\n",
    "    \n",
    "    Return: \n",
    "    TW: Updated value function, Array{Float64,1}\n",
    "    X :  Policy function for entry-exit decision\n",
    "    \n",
    "    \"\"\"\n",
    "    \n",
    "    TW = zeros(m.ns)  # store value\n",
    "    X  = zeros(m.ns) # store optimal decision about entry and exit \n",
    "  \n",
    "    @inbounds for (i_s, v_s) in enumerate(m.sgrid)\n",
    "        \n",
    "        profit::Float64 = p*m.f(v_s,m.ndemand(p,v_s,m.θ),m.θ)- m.ndemand(p,v_s,m.θ) - p*m.cf\n",
    "        @views stay_val::Float64 = profit + m.β*dot(m.F[i_s,:],W)\n",
    "      \n",
    "        if stay_val >= profit\n",
    "            TW[i_s] = stay_val\n",
    "        else\n",
    "            TW[i_s] = profit\n",
    "            X[i_s] = 1.0\n",
    "        end   \n",
    "    end\n",
    "    \n",
    "    return TW, X\n",
    "end"
   ]
  },
  {
   "cell_type": "code",
   "execution_count": 7,
   "metadata": {},
   "outputs": [
    {
     "data": {
      "text/plain": [
       "Bellman_entrant (generic function with 1 method)"
      ]
     },
     "execution_count": 7,
     "metadata": {},
     "output_type": "execute_result"
    }
   ],
   "source": [
    "function Bellman_entrant(m::Model,p,W)\n",
    "    \"\"\"\n",
    "    This functiom compute value function of entrants using that of incumbents\n",
    "    \n",
    "    Arguments:\n",
    "    \n",
    "    m: Struct that contains parameters and iteration settings\n",
    "    p: price, Float64\n",
    "    W: Value function of incumbents, Array{Float64,1}\n",
    "    \n",
    "    Return: \n",
    "    We: Value function for entrants type:Array{Float64,1}\n",
    "    \n",
    "    \"\"\"\n",
    "    We = zeros(m.ns)\n",
    "    @inbounds for (i_s, v_s) in enumerate(m.sgrid)\n",
    "        profit::Float64 = p*m.f(v_s,m.ndemand(p,v_s,m.θ),m.θ)- m.ndemand(p,v_s,m.θ)\n",
    "        We[i_s] += profit +m.β*dot(m.F[i_s,:],W)\n",
    "    end\n",
    "    return We\n",
    "end  "
   ]
  },
  {
   "cell_type": "code",
   "execution_count": 8,
   "metadata": {},
   "outputs": [
    {
     "data": {
      "text/plain": [
       "Check_free_entry (generic function with 1 method)"
      ]
     },
     "execution_count": 8,
     "metadata": {},
     "output_type": "execute_result"
    }
   ],
   "source": [
    "function Check_free_entry(m::Model,p,We)\n",
    "    \"\"\"\n",
    "    This function returns  residual of free entry condition\n",
    "    \n",
    "    Arguments:\n",
    "    \n",
    "    m: Struct that contains parameters and iteration settings\n",
    "    p: price, Float64\n",
    "    We: Value function of entrants, Array{Float64,1}\n",
    "    \n",
    "    Return:\n",
    "    \n",
    "    resitual of free entry condition\n",
    "    \n",
    "    \"\"\"\n",
    "    return dot(m.ν,We)- p*m.ce\n",
    "end"
   ]
  },
  {
   "cell_type": "code",
   "execution_count": 9,
   "metadata": {
    "code_folding": []
   },
   "outputs": [
    {
     "data": {
      "text/plain": [
       "Find_labor (generic function with 1 method)"
      ]
     },
     "execution_count": 9,
     "metadata": {},
     "output_type": "execute_result"
    }
   ],
   "source": [
    "function Find_labor(m,p,X)\n",
    "    \n",
    "    \"\"\"\n",
    "    This function compute invariant distribution and aggregate labor.\n",
    "    Iteration based.\n",
    "    \n",
    "    Arguments:\n",
    "    \n",
    "    m: Struct that contains parameters and iteration settings\n",
    "    p: Equilibrium price, Float64\n",
    "    X: Policy function for entry-exit decision, Array{Float64,1}\n",
    "    \n",
    "    \n",
    "    Return:\n",
    "    \n",
    "    dlab: labor demand, Float64\n",
    "    slab: labor supply, Float64\n",
    "    μ: stationary distribution, Array{Float64, 1} \n",
    "    M: mass of entrants, Float64\n",
    "    \"\"\"\n",
    "    \n",
    "    const θ = m.θ # unpack params\n",
    "    \n",
    "    # Initial guess for mass of entrants.\n",
    "    M = 1.0\n",
    "    # Initial guess for distribution\n",
    "    μ = ones(m.ns)./m.ns\n",
    "    \n",
    "    # Preallocate distribution\n",
    "    μ1 = zeros(m.ns)\n",
    "    \n",
    "    # Store labor data \n",
    "    dlab = 0.0\n",
    "    slab::Float64 = 0.0\n",
    "    \n",
    "    @inbounds for labor_iter in 1:m.maxiter\n",
    "\n",
    "        # Compute Stationary distribution \n",
    "\n",
    "        @inbounds for dist_iter in 1:m.maxiter\n",
    "\n",
    "            @inbounds for (i_sprime,v_sprime) in enumerate(m.sgrid)\n",
    "                @inbounds for (i_s, v_s) in enumerate(m.sgrid)\n",
    "                    μ1[i_sprime] +=\n",
    "                    (1.0 - X[i_s])*m.F[i_s,i_sprime]*(μ[i_s] + M*m.ν[i_s])\n",
    "                end\n",
    "            end\n",
    "            \n",
    "            dist_err::Float64 = maximum(abs.(μ-μ1))\n",
    "            μ = copy(μ1)\n",
    "            μ1 = zeros(m.ns)\n",
    "            \n",
    "            if dist_err < m.tol\n",
    "                break\n",
    "            end\n",
    "            \n",
    "            if dist_iter == m.maxiter\n",
    "                println(\"distribution does not converge\")\n",
    "            end\n",
    "        end\n",
    "            \n",
    "        # Derive labor demand    \n",
    "        dlab::Float64 =0.0\n",
    "        @inbounds for (i_s,v_s) in enumerate(m.sgrid)\n",
    "            dlab += m.ndemand(p,v_s,θ)*μ[i_s] \n",
    "            dlab += M*m.ndemand(p,v_s,θ)*m.ν[i_s]\n",
    "        end\n",
    "              \n",
    "        # Compute aggregate profit\n",
    "        profit::Float64 = 0.0\n",
    "        @inbounds for (i_s,v_s) in enumerate(m.sgrid)\n",
    "            gross::Float64 =p*m.f(v_s,m.ndemand(p,v_s,θ),θ)-  m.ndemand(p,v_s,θ)\n",
    "            profit += (gross - p*m.cf)*μ[i_s] # profit for incumbents\n",
    "            profit += M*(gross - p*m.ce)*m.ν[i_s] # profit for entrants\n",
    "        end\n",
    "        \n",
    "        slab = (1.0/m.A) - profit\n",
    "              \n",
    "        # Check market clearing condition\n",
    "        \n",
    "        LMC::Float64 = dlab - slab\n",
    "        \n",
    "        if abs(LMC) < m.tol\n",
    "            break\n",
    "        end\n",
    "        \n",
    "        # update mass of entrants\n",
    "\n",
    "        if LMC > 0.0\n",
    "            M = 0.999*M  # lower M\n",
    "        else\n",
    "            M = 1.001*M # raise M\n",
    "        end\n",
    "        \n",
    "        if labor_iter == m.maxiter\n",
    "            println(\"aggregate labor does not converge\")\n",
    "        end\n",
    "    end\n",
    "        \n",
    "    return dlab,slab,μ,M\n",
    "end"
   ]
  },
  {
   "cell_type": "code",
   "execution_count": 10,
   "metadata": {},
   "outputs": [
    {
     "data": {
      "text/plain": [
       "Model(0.8, 0.64, 0.005, 10.0, 15.0, [0.000398, 3.58, 6.82, 12.18, 18.79], 5, [0.6598 0.26 … 0.0331 0.0055; 0.1997 0.7201 … 0.0326 0.0056; … ; 0.2 0.2 … 0.3397 0.0101; 0.2 0.2 … 0.34 0.01], [0.37, 0.4631, 0.1102, 0.0504, 0.0063], ndemand, f, 10000, 1.0e-5)"
      ]
     },
     "execution_count": 10,
     "metadata": {},
     "output_type": "execute_result"
    }
   ],
   "source": [
    "model = Construct()"
   ]
  },
  {
   "cell_type": "code",
   "execution_count": 11,
   "metadata": {},
   "outputs": [
    {
     "data": {
      "text/plain": [
       "(0.7422052323818207, 188.36077772174045, 188.36077869786038, [1.72036, 4.95924, 1.36829, 0.504264, 0.0589574], 2.730743276114718)"
      ]
     },
     "execution_count": 11,
     "metadata": {},
     "output_type": "execute_result"
    }
   ],
   "source": [
    "p,dlab,slab, μ,M = ComputeHR(model)"
   ]
  },
  {
   "cell_type": "code",
   "execution_count": 12,
   "metadata": {},
   "outputs": [
    {
     "data": {
      "text/plain": [
       "(0.7422052323818207, [1.0, 0.0, 0.0, 0.0, 0.0], [-7.42205, -4.26049, 18.477, 96.5738, 268.725])"
      ]
     },
     "execution_count": 12,
     "metadata": {},
     "output_type": "execute_result"
    }
   ],
   "source": [
    "price,X,W =Find_price(model)"
   ]
  },
  {
   "cell_type": "code",
   "execution_count": 13,
   "metadata": {},
   "outputs": [
    {
     "data": {
      "text/plain": [
       "(188.36077772174045, 188.36077869786038, [1.72036, 4.95924, 1.36829, 0.504264, 0.0589574], 2.730743276114718)"
      ]
     },
     "execution_count": 13,
     "metadata": {},
     "output_type": "execute_result"
    }
   ],
   "source": [
    "dlab, slab, μ,M= Find_labor(model,p,X)"
   ]
  },
  {
   "cell_type": "code",
   "execution_count": 14,
   "metadata": {},
   "outputs": [
    {
     "name": "stdout",
     "output_type": "stream",
     "text": [
      "  0.152382 seconds (1.38 M allocations: 66.655 MiB, 5.58% gc time)\n"
     ]
    }
   ],
   "source": [
    "@time ComputeHR(model);"
   ]
  },
  {
   "cell_type": "code",
   "execution_count": null,
   "metadata": {},
   "outputs": [],
   "source": []
  }
 ],
 "metadata": {
  "kernelspec": {
   "display_name": "Julia 0.6.4",
   "language": "julia",
   "name": "julia-0.6"
  },
  "language_info": {
   "file_extension": ".jl",
   "mimetype": "application/julia",
   "name": "julia",
   "version": "0.6.4"
  },
  "latex_envs": {
   "LaTeX_envs_menu_present": true,
   "autoclose": true,
   "autocomplete": true,
   "bibliofile": "biblio.bib",
   "cite_by": "apalike",
   "current_citInitial": 1,
   "eqLabelWithNumbers": true,
   "eqNumInitial": 1,
   "hotkeys": {
    "equation": "Ctrl-E",
    "itemize": "Ctrl-I"
   },
   "labels_anchors": false,
   "latex_user_defs": false,
   "report_style_numbering": false,
   "user_envs_cfg": false
  }
 },
 "nbformat": 4,
 "nbformat_minor": 2
}
