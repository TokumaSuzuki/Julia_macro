{
 "cells": [
  {
   "cell_type": "markdown",
   "metadata": {
    "slideshow": {
     "slide_type": "slide"
    }
   },
   "source": [
    "# Aiyagari model\n",
    "\n",
    "This code seems to work well. Please tell me if you find something wrong."
   ]
  },
  {
   "cell_type": "code",
   "execution_count": 1,
   "metadata": {
    "slideshow": {
     "slide_type": "slide"
    }
   },
   "outputs": [
    {
     "data": {
      "text/plain": [
       "Plots.PyPlotBackend()"
      ]
     },
     "execution_count": 1,
     "metadata": {},
     "output_type": "execute_result"
    }
   ],
   "source": [
    "using Distributions\n",
    "using BenchmarkTools\n",
    "using Plots\n",
    "pyplot()"
   ]
  },
  {
   "cell_type": "code",
   "execution_count": 2,
   "metadata": {
    "slideshow": {
     "slide_type": "slide"
    }
   },
   "outputs": [
    {
     "data": {
      "text/plain": [
       "tauchen (generic function with 2 methods)"
      ]
     },
     "execution_count": 2,
     "metadata": {},
     "output_type": "execute_result"
    }
   ],
   "source": [
    "include(\"tauchen.jl\")"
   ]
  },
  {
   "cell_type": "code",
   "execution_count": 3,
   "metadata": {
    "code_folding": [],
    "slideshow": {
     "slide_type": "notes"
    }
   },
   "outputs": [
    {
     "data": {
      "text/plain": [
       "Aggregate_Labor (generic function with 1 method)"
      ]
     },
     "execution_count": 3,
     "metadata": {},
     "output_type": "execute_result"
    }
   ],
   "source": [
    "function Aggregate_Labor(zgrid,Π)\n",
    "    const nz = size(zgrid,1)\n",
    "    probst =    ones(nz)./nz\n",
    "    probst1 = similar(probst)\n",
    "    err = 1.0\n",
    "    const tol = 1e-8\n",
    "    Trans = transpose(Π)\n",
    "\n",
    "    while err > tol\n",
    "        probst1 = Trans*probst\n",
    "        err=maximum(abs.(probst1-probst))\n",
    "        probst = copy(probst1)  \n",
    "    end\n",
    "\n",
    "    L = dot(probst,zgrid)\n",
    "    return L\n",
    "end"
   ]
  },
  {
   "cell_type": "code",
   "execution_count": 4,
   "metadata": {
    "slideshow": {
     "slide_type": "slide"
    }
   },
   "outputs": [],
   "source": [
    "type Model\n",
    "    β::Float64\n",
    "    μ::Float64\n",
    "    b::Float64\n",
    "    α::Float64\n",
    "    δ::Float64\n",
    "    zgrid::Array{Float64,1}\n",
    "    Π::Array{Float64,2}\n",
    "    L::Float64\n",
    "end"
   ]
  },
  {
   "cell_type": "code",
   "execution_count": 5,
   "metadata": {},
   "outputs": [
    {
     "data": {
      "text/plain": [
       "main (generic function with 1 method)"
      ]
     },
     "execution_count": 5,
     "metadata": {},
     "output_type": "execute_result"
    }
   ],
   "source": [
    "function main(m::Model)\n",
    "    #primitive parameter\n",
    "    const β = m.β#0.96 #subjective discount factor\n",
    "    const μ = m.μ # relative risk aversion\n",
    "    const b = m.b#3.0 # debt limit\n",
    "    const α = m.α#0.36 # capital share\n",
    "    const δ = m.δ#0.08 # delta\n",
    "\n",
    "    #discretize indivisual shock\n",
    "    zgrid = m.zgrid\n",
    "    Π　= m.Π\n",
    "    const nz = size(zgrid,1)\n",
    "\n",
    "    #aggregate labor\n",
    "    const L = m.L\n",
    "\n",
    "    #initialization\n",
    "    const na = 100\n",
    "    agrid::Array{Float64,1} = zeros(na)\n",
    "    util = zeros(na,na,nz)\n",
    "    v0 = ones(na,nz)\n",
    "    EV = ones(v0)\n",
    "    Tv = zeros(na,nz)\n",
    "    a_index::Array{Int64,2} = zeros(na,nz)\n",
    "    dist0 = ones(na,nz)./(na*nz)\n",
    "    dist1 = zeros(na,nz)\n",
    "    \n",
    "    #iteration setting\n",
    "    const maxiter = 1000\n",
    "    const tol = 1e-5\n",
    "    const neg::Float64 = -1e10\n",
    "    it =0\n",
    "    err_k = 10.0\n",
    "    \n",
    "    # itinial guess\n",
    "    K0 = 5.0\n",
    "    \n",
    "    #Outside Loop\n",
    "    while err_k > 1e-4  # caution! Model cannot converge due to  more strict tolerance.\n",
    "        \n",
    "        \n",
    "        # compute factor price\n",
    "        r0 = α*(K0^(α-1.0))*(L^(1.0-α)) -δ\n",
    "        w0 = (1.0-α)*(K0^α)*(L^(-α))\n",
    "        \n",
    "        # create asset grid\n",
    "        if r0 > 0.0\n",
    "            amin  = min(b,(w0*zgrid[1])/r0)\n",
    "        else\n",
    "            amin = b\n",
    "        end\n",
    "        \n",
    "        const amax = 16.0 \n",
    "        agrid = linspace(-amin,amax,na)\n",
    "\n",
    "        # create utility matrix\n",
    "        for i in 1:na\n",
    "            for j in 1:na\n",
    "                for z in 1:nz\n",
    "                    c = w0*zgrid[z] +(1.0+r0)*agrid[i] - agrid[j]\n",
    "                    if c >= 0.0\n",
    "                        @inbounds util[i,j,z] = (c^(1.0-μ))/(1.0-μ)\n",
    "                    else\n",
    "                        @inbounds util[i,j,z] = neg\n",
    "                    end\n",
    "                end\n",
    "            end\n",
    "        end\n",
    "        \n",
    "        # solve indivisual problem\n",
    "        for VFI_it in 1: maxiter\n",
    "            EV = v0*Π'\n",
    "            for z in 1:nz\n",
    "                gridnext::Int64 = 1\n",
    "                for i in 1:na\n",
    "                    vmin = neg\n",
    "                    for j in gridnext:na # monotonicity\n",
    "                        @inbounds  v = util[i,j,z] + β*EV[j,z]\n",
    "                        if v > vmin\n",
    "                            vmin = copy(v)\n",
    "                            gridnext = j\n",
    "                        else\n",
    "                            break #concavicity\n",
    "                        end\n",
    "                    end\n",
    "                    @inbounds Tv[i,z] = copy(vmin)\n",
    "                    @inbounds a_index[i,z] = gridnext\n",
    "                end\n",
    "            end\n",
    "            \n",
    "            err = maximum(abs.(Tv-v0))\n",
    "            v0 = copy(Tv)\n",
    "            if err < tol\n",
    "                break\n",
    "            end\n",
    "        end   \n",
    "        #end of indivisual problem\n",
    "        \n",
    "        # compute distribution\n",
    "        for dist_it in 1:maxiter# calculate the invariant distribution\n",
    "            for i in 1 : na\n",
    "                for j in 1 : nz\n",
    "                    @inbounds h = a_index[i,j]\n",
    "                    for zz in 1 : nz\n",
    "                        @inbounds dist1[h,zz] += Π[zz,j]*dist0[i,j]\n",
    "                    end                    \n",
    "                end\n",
    "            end\n",
    "            err = maximum(abs.(dist1-dist0))\n",
    "            dist0 = copy(dist1)  # invariant distribution\n",
    "            dist1 = zeros(na,nz)\n",
    "            if err < tol\n",
    "                break\n",
    "            end\n",
    "        end\n",
    "        \n",
    "        # aggregation\n",
    "        K1 = 0.0\n",
    "        for j in 1:na\n",
    "            @inbounds @views K1 += agrid[j]* sum(dist0[j,:])\n",
    "        end\n",
    "        \n",
    "        # update aggregate capital\n",
    "        K0 = 0.98*K0 +0.02*K1\n",
    "        \n",
    "        # update error \n",
    "        err_k = abs(K0-K1)\n",
    "        \n",
    "        it +=1\n",
    "        if it >= maxiter\n",
    "            println(\"the model cannot converge in $maxiter times iteration\")\n",
    "            break\n",
    "        end\n",
    "        #println(\"iteration: $it, error =$err_k\")\n",
    "    end\n",
    "    return agrid,K0, L, dist0\n",
    "end"
   ]
  },
  {
   "cell_type": "code",
   "execution_count": 6,
   "metadata": {
    "slideshow": {
     "slide_type": "slide"
    }
   },
   "outputs": [
    {
     "data": {
      "text/plain": [
       "Model(0.96, 3.0, 3.0, 0.36, 0.08, [0.293833, 0.441977, 0.664814, 1.0, 1.50418, 2.26256, 3.4033], [0.0262397 0.152923 … 0.0152661 0.000778287; 0.0160444 0.114742 … 0.0247006 0.00153919; … ; 0.00153919 0.0247006 … 0.114742 0.0160444; 0.000778287 0.0152661 … 0.152923 0.0262397], 1.0943782080784177)"
      ]
     },
     "execution_count": 6,
     "metadata": {},
     "output_type": "execute_result"
    }
   ],
   "source": [
    "β=0.96\n",
    "μ=3.0\n",
    "b=3.0\n",
    "α=0.36\n",
    "δ=0.08\n",
    "σ=0.4\n",
    "ρ=0.2\n",
    "nz = 7\n",
    "zgrid,Π = tauchen(nz,ρ,σ)\n",
    "L = Aggregate_Labor(zgrid,Π)\n",
    "model = Model(β,μ,b,α,δ,zgrid,Π,L)"
   ]
  },
  {
   "cell_type": "code",
   "execution_count": 7,
   "metadata": {
    "scrolled": true,
    "slideshow": {
     "slide_type": "slide"
    }
   },
   "outputs": [
    {
     "data": {
      "text/plain": [
       "([-3.0, -2.80808, -2.61616, -2.42424, -2.23232, -2.0404, -1.84848, -1.65657, -1.46465, -1.27273  …  14.2727, 14.4646, 14.6566, 14.8485, 15.0404, 15.2323, 15.4242, 15.6162, 15.8081, 16.0], 6.097413499210498, 1.0943782080784177, [3.70445e-5 2.78389e-5 … 7.08085e-6 4.73647e-6; 0.000136015 0.000112916 … 4.34328e-5 3.2233e-5; … ; 0.000146954 0.000175226 … 0.000296006 0.000327054; 0.000114021 0.000163636 … 0.000547349 0.000703538])"
      ]
     },
     "execution_count": 7,
     "metadata": {},
     "output_type": "execute_result"
    }
   ],
   "source": [
    "agrid ,K, L,dist0 = main(model)"
   ]
  },
  {
   "cell_type": "code",
   "execution_count": 8,
   "metadata": {},
   "outputs": [
    {
     "name": "stdout",
     "output_type": "stream",
     "text": [
      "0.03991581003617187\n",
      "1.1877693932880875\n"
     ]
    }
   ],
   "source": [
    "r = α*(K^(α-1.0))*(L^(1.0-α)) -δ\n",
    "println(\"$r\")\n",
    "w0 = (1.0-α)*(K^α)*(L^(-α));\n",
    "println(w0)"
   ]
  },
  {
   "cell_type": "code",
   "execution_count": 9,
   "metadata": {},
   "outputs": [
    {
     "name": "stdout",
     "output_type": "stream",
     "text": [
      "  0.428612 seconds (15.77 k allocations: 66.374 MiB, 6.21% gc time)\n"
     ]
    }
   ],
   "source": [
    "@time main(model);"
   ]
  },
  {
   "cell_type": "markdown",
   "metadata": {},
   "source": [
    "Asset Distribution looks like that of LS. Here is the plot."
   ]
  },
  {
   "cell_type": "code",
   "execution_count": 10,
   "metadata": {},
   "outputs": [
    {
     "data": {
      "text/html": [
       "<img src=\"data:image/png;base64,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\" />"
      ]
     },
     "execution_count": 10,
     "metadata": {},
     "output_type": "execute_result"
    }
   ],
   "source": [
    "plot(agrid,dist0)"
   ]
  },
  {
   "cell_type": "code",
   "execution_count": null,
   "metadata": {},
   "outputs": [],
   "source": [
    "@profile main(model);\n",
    "Profile.print()"
   ]
  },
  {
   "cell_type": "code",
   "execution_count": null,
   "metadata": {},
   "outputs": [],
   "source": []
  }
 ],
 "metadata": {
  "kernelspec": {
   "display_name": "Julia 0.6.2",
   "language": "julia",
   "name": "julia-0.6"
  },
  "language_info": {
   "file_extension": ".jl",
   "mimetype": "application/julia",
   "name": "julia",
   "version": "0.6.2"
  },
  "latex_envs": {
   "LaTeX_envs_menu_present": true,
   "autoclose": true,
   "autocomplete": true,
   "bibliofile": "biblio.bib",
   "cite_by": "apalike",
   "current_citInitial": 1,
   "eqLabelWithNumbers": true,
   "eqNumInitial": 1,
   "hotkeys": {
    "equation": "Ctrl-E",
    "itemize": "Ctrl-I"
   },
   "labels_anchors": false,
   "latex_user_defs": false,
   "report_style_numbering": false,
   "user_envs_cfg": false
  },
  "toc": {
   "nav_menu": {},
   "number_sections": true,
   "sideBar": true,
   "skip_h1_title": false,
   "title_cell": "Table of Contents",
   "title_sidebar": "Contents",
   "toc_cell": false,
   "toc_position": {},
   "toc_section_display": true,
   "toc_window_display": false
  },
  "varInspector": {
   "cols": {
    "lenName": 16,
    "lenType": 16,
    "lenVar": 40
   },
   "kernels_config": {
    "python": {
     "delete_cmd_postfix": "",
     "delete_cmd_prefix": "del ",
     "library": "var_list.py",
     "varRefreshCmd": "print(var_dic_list())"
    },
    "r": {
     "delete_cmd_postfix": ") ",
     "delete_cmd_prefix": "rm(",
     "library": "var_list.r",
     "varRefreshCmd": "cat(var_dic_list()) "
    }
   },
   "types_to_exclude": [
    "module",
    "function",
    "builtin_function_or_method",
    "instance",
    "_Feature"
   ],
   "window_display": false
  }
 },
 "nbformat": 4,
 "nbformat_minor": 2
}
