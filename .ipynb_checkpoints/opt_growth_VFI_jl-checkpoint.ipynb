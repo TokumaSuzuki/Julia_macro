{
 "cells": [
  {
   "cell_type": "markdown",
   "metadata": {},
   "source": [
    "# Optimal Growth Model with Value Function Iteration using Julia"
   ]
  },
  {
   "cell_type": "code",
   "execution_count": 2,
   "metadata": {},
   "outputs": [
    {
     "data": {
      "text/plain": [
       "argmax (generic function with 1 method)"
      ]
     },
     "execution_count": 2,
     "metadata": {},
     "output_type": "execute_result"
    }
   ],
   "source": [
    "# working like np.argmax(matrix,axis=1)\n",
    "function argmax(mat)\n",
    "    values, indices = findmax(mat,2)\n",
    "    return ind2sub(size(mat),vec(indices))[2]\n",
    "end"
   ]
  },
  {
   "cell_type": "code",
   "execution_count": 3,
   "metadata": {},
   "outputs": [
    {
     "data": {
      "text/plain": [
       "VFI (generic function with 1 method)"
      ]
     },
     "execution_count": 3,
     "metadata": {},
     "output_type": "execute_result"
    }
   ],
   "source": [
    "function VFI()\n",
    "    # primitive parameter\n",
    "    beta = 0.95 #subjective discount factor\n",
    "    sigma = 2.0 # relative riskb aversion\n",
    "    delta = 0.1 #depriciation rate\n",
    "    alpha = 0.33 # capital share\n",
    "\n",
    "    # Steady state\n",
    "    aterm = 1.0/beta -(1.0 -delta)\n",
    "    kstar = alpha/aterm\n",
    "    kstar = kstar^(1.0/(1.0-alpha))\n",
    "\n",
    "    # discretize asset space\n",
    "    amin = 0.1*kstar\n",
    "    amax = 2*kstar\n",
    "    na   = 250\n",
    "    agrid = linspace(amin,amax,na)\n",
    "   \n",
    "    #initialize value function and so on\n",
    "    v  = zeros(na,na) # temp value function\n",
    "    c  = zeros(na,na) # consuption matrix\n",
    "    util = zeros(na,na) # utility matrix\n",
    "    v0 = zeros(na,1) # initial guess of value function\n",
    "    Tv = zeros(na,1) # update value function\n",
    "    pol_a =zeros(na,1) # policy function\n",
    "    \n",
    "    \n",
    "    #create consuption and utility matrix\n",
    "    for i in 1:na # for state variable a_t\n",
    "        for j in 1:na # for control variable a_{t+1}\n",
    "            c[i,j] = agrid[i]^alpha +(1-delta)*agrid[i]-agrid[j]\n",
    "            util[i,j] =(c[i,j]^(1-sigma))/(1-sigma)\n",
    "            if c[i,j] <= 0\n",
    "                util[i,j] = -999999999.9 # penalty\n",
    "            end\n",
    "        end\n",
    "    end\n",
    "    \n",
    "    #iteration settings\n",
    "    iteration = 0\n",
    "    tol =0.00001\n",
    "    error = 10.0\n",
    "\n",
    "    # value function iteration\n",
    "    while error > tol\n",
    "        # calculate temp value function\n",
    "        for i in 1:na\n",
    "            for j in 1:na\n",
    "                v[i,j] = util[i,j] + beta*v0[j]\n",
    "            end\n",
    "        end\n",
    "        \n",
    "        a_index = argmax(v) # obtain policy function ver. index\n",
    "        Tv = maximum(v,2) # obtain new value funtion\n",
    "        for i in 1:na\n",
    "            pol_a[i]   = agrid[a_index[i]]\n",
    "        end\n",
    "        error = maximum(abs.(Tv-v0)) # update error\n",
    "        v0    = Tv # update value function\n",
    "        iteration += 1\n",
    "    \n",
    "    end\n",
    "    #println(\"converged!\")\n",
    "    #println(iteration)\n",
    "    return(v0,pol_a)\n",
    "end"
   ]
  },
  {
   "cell_type": "code",
   "execution_count": 1,
   "metadata": {},
   "outputs": [
    {
     "name": "stderr",
     "output_type": "stream",
     "text": [
      "\u001b[1m\u001b[36mINFO: \u001b[39m\u001b[22m\u001b[36mRecompiling stale cache file C:\\Users\\suzuki\\.julia\\lib\\v0.6\\BenchmarkTools.ji for module BenchmarkTools.\n",
      "\u001b[39m"
     ]
    }
   ],
   "source": [
    "using BenchmarkTools"
   ]
  },
  {
   "cell_type": "code",
   "execution_count": 4,
   "metadata": {},
   "outputs": [
    {
     "data": {
      "text/plain": [
       "BenchmarkTools.Trial: \n",
       "  memory estimate:  4.80 MiB\n",
       "  allocs estimate:  5860\n",
       "  --------------\n",
       "  minimum time:     64.068 ms (0.00% GC)\n",
       "  median time:      69.112 ms (0.00% GC)\n",
       "  mean time:        69.447 ms (1.10% GC)\n",
       "  maximum time:     79.350 ms (4.86% GC)\n",
       "  --------------\n",
       "  samples:          72\n",
       "  evals/sample:     1"
      ]
     },
     "execution_count": 4,
     "metadata": {},
     "output_type": "execute_result"
    }
   ],
   "source": [
    "@benchmark VFI()"
   ]
  },
  {
   "cell_type": "code",
   "execution_count": 5,
   "metadata": {},
   "outputs": [
    {
     "name": "stderr",
     "output_type": "stream",
     "text": [
      "\u001b[1m\u001b[36mINFO: \u001b[39m\u001b[22m\u001b[36mPrecompiling module Plots.\n",
      "\u001b[39m"
     ]
    }
   ],
   "source": [
    "using Plots"
   ]
  },
  {
   "cell_type": "code",
   "execution_count": 6,
   "metadata": {},
   "outputs": [
    {
     "data": {
      "text/plain": [
       "([-22.9349; -22.7696; … ; -15.6818; -15.6718], [0.484919; 0.509038; … ; 5.95994; 5.95994])"
      ]
     },
     "execution_count": 6,
     "metadata": {},
     "output_type": "execute_result"
    }
   ],
   "source": [
    "v0, pol_a = VFI()"
   ]
  },
  {
   "cell_type": "code",
   "execution_count": null,
   "metadata": {},
   "outputs": [],
   "source": [
    "plot(pol_a)"
   ]
  },
  {
   "cell_type": "code",
   "execution_count": null,
   "metadata": {},
   "outputs": [],
   "source": []
  }
 ],
 "metadata": {
  "kernelspec": {
   "display_name": "Julia 0.6.1",
   "language": "julia",
   "name": "julia-0.6"
  },
  "language_info": {
   "file_extension": ".jl",
   "mimetype": "application/julia",
   "name": "julia",
   "version": "0.6.1"
  },
  "latex_envs": {
   "LaTeX_envs_menu_present": true,
   "autoclose": true,
   "autocomplete": true,
   "bibliofile": "biblio.bib",
   "cite_by": "apalike",
   "current_citInitial": 1,
   "eqLabelWithNumbers": true,
   "eqNumInitial": 1,
   "hotkeys": {
    "equation": "Ctrl-E",
    "itemize": "Ctrl-I"
   },
   "labels_anchors": false,
   "latex_user_defs": false,
   "report_style_numbering": false,
   "user_envs_cfg": false
  }
 },
 "nbformat": 4,
 "nbformat_minor": 2
}
