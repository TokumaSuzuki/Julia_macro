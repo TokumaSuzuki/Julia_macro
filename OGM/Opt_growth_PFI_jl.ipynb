{
 "cells": [
  {
   "cell_type": "markdown",
   "metadata": {},
   "source": [
    "# Optimal Growth Model with Policy Function Iteration using Julia"
   ]
  },
  {
   "cell_type": "code",
   "execution_count": 1,
   "metadata": {},
   "outputs": [],
   "source": [
    "using BenchmarkTools\n",
    "using Plots"
   ]
  },
  {
   "cell_type": "code",
   "execution_count": 2,
   "metadata": {},
   "outputs": [
    {
     "data": {
      "text/plain": [
       "PFI (generic function with 1 method)"
      ]
     },
     "execution_count": 2,
     "metadata": {},
     "output_type": "execute_result"
    }
   ],
   "source": [
    "mutable struct Model\n",
    "    # primitive parameter\n",
    "    beta::Float64 #subjective discount factor\n",
    "    sigma::Float64 # relative risk aversion\n",
    "    delta::Float64 #depriciation rate\n",
    "    alpha::Float64 # capital share\n",
    "\n",
    "    # discretize asset space\n",
    "    agrid::Array{Float64,1}\n",
    "end\n",
    "\n",
    "\n",
    "# working like np.argmax(matrix,axis=1)\n",
    "function argmax(mat::Array{Float64,2})\n",
    "    values, indices = findmax(mat,2)\n",
    "    return ind2sub(size(mat),vec(indices))[2]\n",
    "end\n",
    "\n",
    "function PFI(m::Model)\n",
    "    beta = m.beta\n",
    "    sigma = m.sigma\n",
    "    alpha = m.alpha\n",
    "    delta = m.delta\n",
    "    \n",
    "    agrid =m.agrid\n",
    "    const na = size(agrid, 1)\n",
    "    \n",
    "    #utility function\n",
    "    u(c::Float64) = (c^(1-sigma))/(1-sigma)\n",
    "    \n",
    "    const penalty = -999999999.9\n",
    "    \n",
    "    #initialize value function and so on\n",
    "    v  = zeros(na,na) # temp value function\n",
    "\n",
    "    util = zeros(na,na) # utility matrix\n",
    "    reward = zeros(na,1) # new utility using policy\n",
    "    v0 = zeros(na,1) # initial guess of value function\n",
    "    Tv = zeros(na,1) # update value function\n",
    "    pol_a =zeros(na,1) # policy function\n",
    "    \n",
    "    I  = speye(na) # create sparse identity matrix\n",
    "    \n",
    "    \n",
    "    #create consuption and utility matrix        \n",
    "    c=0.0\n",
    "    for (i,today) in enumerate(agrid)\n",
    "        for (j,next) in enumerate(agrid)\n",
    "            @inbounds c = today ^ alpha + (1-delta)*today - next\n",
    "            @inbounds util[i,j] = u(c)\n",
    "            if c <= 0.0\n",
    "                @inbounds util[i,j] = penalty\n",
    "            end\n",
    "        end\n",
    "    end\n",
    "\n",
    "    #iteration settings\n",
    "    const maxiter = 1000\n",
    "    const tol =1e-5\n",
    "    error = 10.0\n",
    "\n",
    "    # Policy function iteration\n",
    "    for it in 1 : maxiter\n",
    "        # calculate temp value function\n",
    "        for j in 1:na\n",
    "            for i in 1:na\n",
    "                @inbounds v[i,j] = util[i,j] + beta*v0[j]\n",
    "            end\n",
    "        end\n",
    "        \n",
    "        a_index = argmax(v) # obtain policy function ver. index\n",
    "        \n",
    "        for i in 1:na\n",
    "             @inbounds pol_a[i]   = agrid[a_index[i]]\n",
    "             @inbounds reward[i] = u(agrid[i]^alpha + (1-delta)*agrid[i] - pol_a[i]) \n",
    "        end\n",
    "        \n",
    "        Q = spzeros(na,na)\n",
    "        for i in 1: na\n",
    "            Q[i,a_index[i]] = 1 \n",
    "        end \n",
    "        \n",
    "        Tv = (I-beta*Q)\\reward\n",
    "        \n",
    "        error = maximum(abs.(Tv-v0)) # update error\n",
    "        v0    = copy(Tv) # update value function\n",
    "        \n",
    "        if error < tol\n",
    "            break\n",
    "        end\n",
    "    end\n",
    "    \n",
    "    return(agrid,v0,pol_a)\n",
    "end"
   ]
  },
  {
   "cell_type": "code",
   "execution_count": 3,
   "metadata": {},
   "outputs": [
    {
     "data": {
      "text/plain": [
       "Model(0.95, 2.0, 0.1, 0.33, [0.316086, 0.340205, 0.364324, 0.388443, 0.412562, 0.436681, 0.4608, 0.484919, 0.509038, 0.533157  …  6.10465, 6.12877, 6.15289, 6.17701, 6.20113, 6.22524, 6.24936, 6.27348, 6.2976, 6.32172])"
      ]
     },
     "execution_count": 3,
     "metadata": {},
     "output_type": "execute_result"
    }
   ],
   "source": [
    "beta = 0.95 #subjective discount factor\n",
    "sigma = 2.0 # relative risk aversion\n",
    "delta = 0.1 #depriciation rate\n",
    "alpha = 0.33 # capital share\n",
    "\n",
    "# Steady state\n",
    "aterm = 1.0/beta -(1.0 -delta)\n",
    "kstar = alpha/aterm\n",
    "kstar = kstar^(1.0/(1.0-alpha))\n",
    "\n",
    "amin = 0.1 * kstar\n",
    "amax = 2.0 * kstar\n",
    "na   = 250\n",
    "\n",
    "model = Model(beta, sigma, delta, alpha, linspace(amin, amax, na))"
   ]
  },
  {
   "cell_type": "code",
   "execution_count": 4,
   "metadata": {},
   "outputs": [
    {
     "name": "stdout",
     "output_type": "stream",
     "text": [
      "  0.985732 seconds (669.28 k allocations: 38.043 MiB, 0.61% gc time)\n"
     ]
    },
    {
     "data": {
      "text/plain": [
       "([0.316086, 0.340205, 0.364324, 0.388443, 0.412562, 0.436681, 0.4608, 0.484919, 0.509038, 0.533157  …  6.10465, 6.12877, 6.15289, 6.17701, 6.20113, 6.22524, 6.24936, 6.27348, 6.2976, 6.32172], [-22.9351; -22.7698; … ; -15.6819; -15.672], [0.484919; 0.509038; … ; 5.95994; 5.95994])"
      ]
     },
     "execution_count": 4,
     "metadata": {},
     "output_type": "execute_result"
    }
   ],
   "source": [
    "@time agrid,v0,pol_a = PFI(model)"
   ]
  },
  {
   "cell_type": "code",
   "execution_count": 5,
   "metadata": {},
   "outputs": [
    {
     "data": {
      "text/html": [
       "<img src=\"data:image/png;base64,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\" />"
      ]
     },
     "execution_count": 5,
     "metadata": {},
     "output_type": "execute_result"
    }
   ],
   "source": [
    "plot(agrid,pol_a ,color=\"blue\", linewidth=1.5, label=\"Policy Function\")\n",
    "plot!(agrid,agrid, color=\"red\", linewidth=1.5, label=\"45 degree Line\")"
   ]
  },
  {
   "cell_type": "code",
   "execution_count": 6,
   "metadata": {
    "scrolled": false
   },
   "outputs": [
    {
     "data": {
      "text/html": [
       "<img src=\"data:image/png;base64,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\" />"
      ]
     },
     "execution_count": 6,
     "metadata": {},
     "output_type": "execute_result"
    }
   ],
   "source": [
    "plot(agrid,v0,color=\"blue\",linewidth=1.5, label=\"Value Function\")"
   ]
  },
  {
   "cell_type": "code",
   "execution_count": 7,
   "metadata": {
    "scrolled": true
   },
   "outputs": [
    {
     "data": {
      "text/plain": [
       "BenchmarkTools.Trial: \n",
       "  memory estimate:  3.85 MiB\n",
       "  allocs estimate:  1850\n",
       "  --------------\n",
       "  minimum time:     9.373 ms (0.00% GC)\n",
       "  median time:      9.711 ms (0.00% GC)\n",
       "  mean time:        9.994 ms (2.06% GC)\n",
       "  maximum time:     12.693 ms (8.75% GC)\n",
       "  --------------\n",
       "  samples:          500\n",
       "  evals/sample:     1"
      ]
     },
     "execution_count": 7,
     "metadata": {},
     "output_type": "execute_result"
    }
   ],
   "source": [
    "@benchmark PFI(model)"
   ]
  },
  {
   "cell_type": "code",
   "execution_count": null,
   "metadata": {},
   "outputs": [],
   "source": []
  }
 ],
 "metadata": {
  "kernelspec": {
   "display_name": "Julia 0.6.2",
   "language": "julia",
   "name": "julia-0.6"
  },
  "language_info": {
   "file_extension": ".jl",
   "mimetype": "application/julia",
   "name": "julia",
   "version": "0.6.2"
  },
  "latex_envs": {
   "LaTeX_envs_menu_present": true,
   "autoclose": true,
   "autocomplete": true,
   "bibliofile": "biblio.bib",
   "cite_by": "apalike",
   "current_citInitial": 1,
   "eqLabelWithNumbers": true,
   "eqNumInitial": 1,
   "hotkeys": {
    "equation": "Ctrl-E",
    "itemize": "Ctrl-I"
   },
   "labels_anchors": false,
   "latex_user_defs": false,
   "report_style_numbering": false,
   "user_envs_cfg": false
  }
 },
 "nbformat": 4,
 "nbformat_minor": 2
}
