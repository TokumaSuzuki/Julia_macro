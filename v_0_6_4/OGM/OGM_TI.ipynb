{
 "cells": [
  {
   "cell_type": "markdown",
   "metadata": {},
   "source": [
    "# Optimal growth model using Time Iteration\n",
    "This explanation is  my reminder and may have some mistakes.\n",
    "- What is Time iteration?\n",
    "\n",
    "This method uses Euler equation. What we do is the following step.\n",
    "    1. guess tomorrow's policy function.\n",
    "    2. find today's policy function given tomorrow's policy function.\n",
    "    3. update guess and iterate until it converges."
   ]
  },
  {
   "cell_type": "markdown",
   "metadata": {},
   "source": [
    "- Consider Euler equation\n",
    "\n",
    "$$u'(c) = \\beta u'(c')[f'(k')+(1-\\delta))]$$\n",
    "\n",
    "- Use the resource constraint $c +k' = f(k) +(1-\\delta)k$,\n",
    "\n",
    "$$u'(f(k) +(1-\\delta)k-k') =\\beta u'(f(k')+(1-\\delta)k' -k^{\\prime\\prime})[f'(k') +(1-\\delta))]$$\n",
    "\n",
    "We use today's capital grid and tomorrow's policy,p(k').\n",
    "\n",
    "To implement policy function iteration, we have to use nonlinear solver and interpolation method.\n",
    "    - nonlinear solver:fzero(Roots.jl)\n",
    "    - interpolation: Piecewise linear interpolation(QuantEcon.jl)"
   ]
  },
  {
   "cell_type": "markdown",
   "metadata": {},
   "source": [
    "## Time Iteration Algorithm\n",
    "\n",
    "### set up the situation\n",
    "1. set capital grid in this period.\n",
    "2. guess initial tomorrow's policy\n",
    "3. set error tolerance and maximum number of iteration\n",
    "\n",
    "### Iteration \n",
    "\n",
    "For all values of today's capital grid, \n",
    "\n",
    "   solve Euler equation for optimal tomorrow's capital,k'.\n",
    "   \n",
    "   $$u'(f(k) +(1-\\delta)k-k') =\\beta u'\\left(f(k')+(1-\\delta)k' -p(k')\\right)[f'(k') +(1-\\delta)]$$\n",
    "   \n",
    "Then, approximate new policy $Tp$ by $\\left\\{K_j, K'_j \\right\\}$\n",
    "\n",
    "Finally, We check convergence."
   ]
  },
  {
   "cell_type": "markdown",
   "metadata": {},
   "source": [
    "## Implementation"
   ]
  },
  {
   "cell_type": "code",
   "execution_count": 1,
   "metadata": {},
   "outputs": [
    {
     "data": {
      "text/plain": [
       "Plots.PyPlotBackend()"
      ]
     },
     "execution_count": 1,
     "metadata": {},
     "output_type": "execute_result"
    }
   ],
   "source": [
    "using Roots\n",
    "using BenchmarkTools\n",
    "using Plots\n",
    "using QuantEcon\n",
    "pyplot()"
   ]
  },
  {
   "cell_type": "code",
   "execution_count": 2,
   "metadata": {
    "code_folding": []
   },
   "outputs": [
    {
     "data": {
      "text/plain": [
       "TIModel (generic function with 6 methods)"
      ]
     },
     "execution_count": 2,
     "metadata": {},
     "output_type": "execute_result"
    }
   ],
   "source": [
    "mutable struct TImodel{TI<:Integer,TF<:AbstractFloat}\n",
    "    β::TF\n",
    "    γ::TF\n",
    "    δ::TF\n",
    "    α::TF\n",
    "    nk::TI\n",
    "    kgrid::Array{TF,1}\n",
    "    pguess::Array{TF,1}\n",
    "    u::Function\n",
    "    u′::Function\n",
    "    f::Function\n",
    "    f′::Function\n",
    "end\n",
    "\n",
    "function TIModel(β=0.95, # subjective discount factor\n",
    "                  γ=2.0, # risk aversion\n",
    "                  δ=0.1, # depriciation rate\n",
    "                  α=0.33, # capital share\n",
    "                  nk=250,# Number of grid point\n",
    "                 )\n",
    "\n",
    "    # create capital grid\n",
    "    kstar=((1.0/β-(1.0-δ))/α)^(1.0/(α-1.0)) # compute steady state\n",
    "    kmin = 0.1*kstar # minimal capital stock\n",
    "    kmax = 2.0*kstar # maximal capital stock\n",
    "    kgrid = collect(linspace(kmin,kmax,nk)) \n",
    "    \n",
    "    # initial guess\n",
    "    pguess = collect(linspace(kmin,kmax,nk)) \n",
    "    \n",
    "    # utility function\n",
    "    u(c) =(c^(1-γ))/(1-γ) \n",
    "    u′(c) = c^(-γ) \n",
    "    \n",
    "    # production function\n",
    "    f(k) =  k^α \n",
    "    f′(k) = α*k^(α-1) \n",
    "    \n",
    "    \n",
    "    if γ == 1.0\n",
    "        u_log(c) = log(c)\n",
    "        t = TImodel(β, γ,δ, α, nk, kgrid, pguess, u_log, u′, f, f′)\n",
    "    else\n",
    "        t = TImodel(β, γ,δ, α, nk, kgrid, pguess, u, u′, f, f′)\n",
    "    end\n",
    "    \n",
    "end"
   ]
  },
  {
   "cell_type": "code",
   "execution_count": 3,
   "metadata": {},
   "outputs": [
    {
     "data": {
      "text/plain": [
       "TImodel{Int64,Float64}(0.95, 2.0, 0.1, 0.33, 250, [0.316086, 0.340205, 0.364324, 0.388443, 0.412562, 0.436681, 0.4608, 0.484919, 0.509038, 0.533157  …  6.10465, 6.12877, 6.15289, 6.17701, 6.20113, 6.22524, 6.24936, 6.27348, 6.2976, 6.32172], [0.316086, 0.340205, 0.364324, 0.388443, 0.412562, 0.436681, 0.4608, 0.484919, 0.509038, 0.533157  …  6.10465, 6.12877, 6.15289, 6.17701, 6.20113, 6.22524, 6.24936, 6.27348, 6.2976, 6.32172], u, u′, f, f′)"
      ]
     },
     "execution_count": 3,
     "metadata": {},
     "output_type": "execute_result"
    }
   ],
   "source": [
    "t = TIModel()"
   ]
  },
  {
   "cell_type": "code",
   "execution_count": 4,
   "metadata": {},
   "outputs": [
    {
     "data": {
      "text/plain": [
       "TI (generic function with 1 method)"
      ]
     },
     "execution_count": 4,
     "metadata": {},
     "output_type": "execute_result"
    }
   ],
   "source": [
    "function TI(t::TImodel)\n",
    "    const β = t.β\n",
    "    const γ = t.γ\n",
    "    const δ = t.δ\n",
    "    const α = t.α\n",
    "    const nk = t.nk\n",
    "    kgrid = t.kgrid\n",
    "    pguess = t.pguess\n",
    "    u = t.u\n",
    "    u′ = t.u′\n",
    "    f = t.f\n",
    "    f′ = t.f′\n",
    "    Tp::Array{Float64,1} = zeros(nk) # updated policy \n",
    "    #setting\n",
    "    const tol_it = 1e-5 \n",
    "    const maxiter = 10000\n",
    "    \n",
    "    # Time Iteration \n",
    "    for it in 1:maxiter\n",
    "        kpp = LinInterp(kgrid, pguess)\n",
    "        \n",
    "        for i = 1:nk # loop over all gridpoints\n",
    "            @inbounds k = kgrid[i] # read grid point to be considered\n",
    "            EE(kp) = u′(f(k)+(1.0-δ)*k - kp) -β*u′(f(kp)+(1.0-δ)*kp - kpp(kp))*(f′(kp) +(1.0-δ))\n",
    "            #function EE(kp)\n",
    "            #    if kp >=0.0\n",
    "            #        return  u′(f(k)+(1.0-δ)*k - kp) -β*u′(f(kp)+(1.0-δ)*kp - kpp(kp))*(f′(kp) +(1.0-δ))\n",
    "            #    else\n",
    "            #        return   kp^2.0 + u′(f(k)+(1.0-δ)*k ) -β*u′(f(0.0) - kpp(0.0))*(f′(0.0) +(1.0-δ))\n",
    "            #    end\n",
    "            #end\n",
    "            \n",
    "            @inbounds Tp[i] =newton(EE,k)#find_zero(EE, k,Order5())    \n",
    "\n",
    "        end\n",
    "\n",
    "        # Calculate error:\n",
    "        error_it=maximum(abs,(pguess-Tp))\n",
    "        \n",
    "        # Update policy:\n",
    "        pguess=copy(Tp)\n",
    "        if error_it < tol_it\n",
    "            break\n",
    "        end\n",
    "    \n",
    "    end\n",
    "    \n",
    "    return kgrid,pguess\n",
    "end"
   ]
  },
  {
   "cell_type": "code",
   "execution_count": 5,
   "metadata": {},
   "outputs": [
    {
     "data": {
      "text/plain": [
       "([0.316086, 0.340205, 0.364324, 0.388443, 0.412562, 0.436681, 0.4608, 0.484919, 0.509038, 0.533157  …  6.10465, 6.12877, 6.15289, 6.17701, 6.20113, 6.22524, 6.24936, 6.27348, 6.2976, 6.32172], [0.49221, 0.518658, 0.544798, 0.570664, 0.596284, 0.621683, 0.646881, 0.671895, 0.696742, 0.721435  …  5.77994, 5.80127, 5.8226, 5.84394, 5.86527, 5.88659, 5.90792, 5.92925, 5.95057, 5.9719])"
      ]
     },
     "execution_count": 5,
     "metadata": {},
     "output_type": "execute_result"
    }
   ],
   "source": [
    "kgrid,kpgrid =TI(t)"
   ]
  },
  {
   "cell_type": "code",
   "execution_count": 6,
   "metadata": {},
   "outputs": [
    {
     "name": "stdout",
     "output_type": "stream",
     "text": [
      "  0.430731 seconds (3.41 M allocations: 72.815 MiB, 5.48% gc time)\n"
     ]
    }
   ],
   "source": [
    "@time TI(t);"
   ]
  },
  {
   "cell_type": "code",
   "execution_count": 7,
   "metadata": {},
   "outputs": [
    {
     "data": {
      "text/html": [
       "<img src=\"data:image/png;base64,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\" />"
      ]
     },
     "execution_count": 7,
     "metadata": {},
     "output_type": "execute_result"
    }
   ],
   "source": [
    "plot(kgrid,kgrid,color=\"red\",label=\"45 degree Line\")\n",
    "plot!(kgrid,kpgrid,color=\"blue\",label=\"Policy Function\")"
   ]
  },
  {
   "cell_type": "code",
   "execution_count": 8,
   "metadata": {},
   "outputs": [
    {
     "data": {
      "text/plain": [
       "BenchmarkTools.Trial: \n",
       "  memory estimate:  72.81 MiB\n",
       "  allocs estimate:  3409279\n",
       "  --------------\n",
       "  minimum time:     399.880 ms (5.50% GC)\n",
       "  median time:      429.859 ms (4.13% GC)\n",
       "  mean time:        440.935 ms (4.19% GC)\n",
       "  maximum time:     526.839 ms (3.86% GC)\n",
       "  --------------\n",
       "  samples:          12\n",
       "  evals/sample:     1"
      ]
     },
     "execution_count": 8,
     "metadata": {},
     "output_type": "execute_result"
    }
   ],
   "source": [
    "@benchmark TI(t)"
   ]
  }
 ],
 "metadata": {
  "kernelspec": {
   "display_name": "Julia 0.6.2",
   "language": "julia",
   "name": "julia-0.6"
  },
  "language_info": {
   "file_extension": ".jl",
   "mimetype": "application/julia",
   "name": "julia",
   "version": "0.6.2"
  },
  "latex_envs": {
   "LaTeX_envs_menu_present": true,
   "autoclose": true,
   "autocomplete": true,
   "bibliofile": "biblio.bib",
   "cite_by": "apalike",
   "current_citInitial": 1,
   "eqLabelWithNumbers": true,
   "eqNumInitial": 1,
   "hotkeys": {
    "equation": "Ctrl-E",
    "itemize": "Ctrl-I"
   },
   "labels_anchors": false,
   "latex_user_defs": false,
   "report_style_numbering": false,
   "user_envs_cfg": false
  },
  "toc": {
   "nav_menu": {},
   "number_sections": true,
   "sideBar": true,
   "skip_h1_title": false,
   "title_cell": "Table of Contents",
   "title_sidebar": "Contents",
   "toc_cell": false,
   "toc_position": {},
   "toc_section_display": true,
   "toc_window_display": false
  },
  "varInspector": {
   "cols": {
    "lenName": 16,
    "lenType": 16,
    "lenVar": 40
   },
   "kernels_config": {
    "python": {
     "delete_cmd_postfix": "",
     "delete_cmd_prefix": "del ",
     "library": "var_list.py",
     "varRefreshCmd": "print(var_dic_list())"
    },
    "r": {
     "delete_cmd_postfix": ") ",
     "delete_cmd_prefix": "rm(",
     "library": "var_list.r",
     "varRefreshCmd": "cat(var_dic_list()) "
    }
   },
   "types_to_exclude": [
    "module",
    "function",
    "builtin_function_or_method",
    "instance",
    "_Feature"
   ],
   "window_display": false
  }
 },
 "nbformat": 4,
 "nbformat_minor": 2
}
