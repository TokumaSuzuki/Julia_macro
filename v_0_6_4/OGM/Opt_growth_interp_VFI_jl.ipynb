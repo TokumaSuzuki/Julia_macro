{
 "cells": [
  {
   "cell_type": "markdown",
   "metadata": {},
   "source": [
    "# Optimal growth model with Value function iteration and interpolation\n",
    "\n",
    "In this program, I use cubic spline interpolation and Golden section method. We can change these two methods.\n",
    "\n",
    "Moreover, I use the monotonicity of policy function to accelerate my code."
   ]
  },
  {
   "cell_type": "code",
   "execution_count": 1,
   "metadata": {},
   "outputs": [
    {
     "data": {
      "text/plain": [
       "Plots.PyPlotBackend()"
      ]
     },
     "execution_count": 1,
     "metadata": {},
     "output_type": "execute_result"
    }
   ],
   "source": [
    "using Interpolations\n",
    "using Optim\n",
    "using BenchmarkTools\n",
    "using Plots\n",
    "pyplot()"
   ]
  },
  {
   "cell_type": "code",
   "execution_count": 2,
   "metadata": {},
   "outputs": [
    {
     "data": {
      "text/plain": [
       "VFI (generic function with 1 method)"
      ]
     },
     "execution_count": 2,
     "metadata": {},
     "output_type": "execute_result"
    }
   ],
   "source": [
    "mutable struct Model\n",
    "    # primitive parameter\n",
    "    beta::Float64 #subjective discount factor\n",
    "    sigma::Float64 # relative risk aversion\n",
    "    delta::Float64 #depriciation rate\n",
    "    alpha::Float64 # capital share\n",
    "end\n",
    "\n",
    "function VFI(m::Model)\n",
    "    # primitive parameter\n",
    "    const beta = m.beta \n",
    "    const sigma = m.sigma\n",
    "    const delta = m.delta\n",
    "    const alpha = m.alpha\n",
    "\n",
    "    \n",
    "    # Steady state\n",
    "    aterm = 1.0/beta -(1.0 -delta)\n",
    "    astar = alpha/aterm\n",
    "    astar = astar^(1.0/(1.0-alpha))\n",
    "    \n",
    "    # discretize asset space\n",
    "    const amin = 0.1*astar\n",
    "    const amax = 2.0*astar\n",
    "    const na   = 250\n",
    "    agrid =linspace(amin,amax, na)\n",
    " \n",
    "   \n",
    "    #initialize value function and so on\n",
    "    # utility function\n",
    "    u(c::Float64) = (c^(1.0-sigma))/(1.0-sigma)\n",
    "\n",
    "    v0::Array{Float64,1} = zeros(na)# initial guess of value function\n",
    "    Tv= similar(v0) # update value function\n",
    "    pol_a::Array{Float64,1} =zeros(na) # policy function\n",
    "    \n",
    "    #iteration \n",
    "    const maxiter=300\n",
    "    const tol =1e-5\n",
    "    iter = 0.1\n",
    "    error = 10.0\n",
    "    \n",
    "    # value function iteration\n",
    "    \n",
    "    while iter < maxiter && error > tol\n",
    "        itp = scale(interpolate(v0, BSpline(Cubic(Line())), OnGrid()),agrid) #cubic spline\n",
    "        #itp = scale(interpolate(v0, BSpline(Linear()), OnGrid()), agrid) # linear\n",
    "        # using monotonicity\n",
    "        temp =amin\n",
    "        for i in  1:na\n",
    "            objective(a_next) = -u(agrid[i]^alpha +(1.0-delta)*agrid[i]- a_next) - beta*itp[a_next]\n",
    "            res = optimize(objective, temp, agrid[i]^alpha+(1.0-delta)*agrid[i], GoldenSection())\n",
    "            @inbounds pol_a[i] = res.minimizer\n",
    "            temp = res.minimizer\n",
    "            @inbounds Tv[i] = - res.minimum  \n",
    "        end\n",
    "       \n",
    "        error = maximum(abs.(Tv-v0)) # update error\n",
    "        v0    = copy(Tv) # update value function\n",
    "        iter +=1\n",
    "    end\n",
    "    \n",
    "    return(agrid,v0,pol_a)\n",
    "end"
   ]
  },
  {
   "cell_type": "code",
   "execution_count": 3,
   "metadata": {},
   "outputs": [
    {
     "data": {
      "text/plain": [
       "Model(0.95, 2.0, 0.1, 0.33)"
      ]
     },
     "execution_count": 3,
     "metadata": {},
     "output_type": "execute_result"
    }
   ],
   "source": [
    "beta = 0.95 #subjective discount factor\n",
    "sigma = 2.0 # relative risk aversion\n",
    "delta = 0.1 #depriciation rate\n",
    "alpha = 0.33 # capital share\n",
    "\n",
    "model = Model(beta, sigma, delta, alpha)"
   ]
  },
  {
   "cell_type": "code",
   "execution_count": 4,
   "metadata": {},
   "outputs": [
    {
     "data": {
      "text/plain": [
       "(0.3160860199072237:0.024119013567217868:6.321720398144473, [-22.9326, -22.7669, -22.6123, -22.4672, -22.3306, -22.2015, -22.0791, -21.9626, -21.8516, -21.7455  …  -15.7622, -15.752, -15.7417, -15.7316, -15.7214, -15.7113, -15.7013, -15.6913, -15.6813, -15.6713], [0.492229, 0.518677, 0.544816, 0.570681, 0.5963, 0.621698, 0.646895, 0.671908, 0.696755, 0.721447  …  5.77991, 5.80124, 5.82258, 5.84391, 5.86524, 5.88657, 5.90789, 5.92922, 5.95055, 5.97187])"
      ]
     },
     "execution_count": 4,
     "metadata": {},
     "output_type": "execute_result"
    }
   ],
   "source": [
    "agrid,v0,pol_a =VFI(model)"
   ]
  },
  {
   "cell_type": "code",
   "execution_count": 5,
   "metadata": {},
   "outputs": [
    {
     "name": "stdout",
     "output_type": "stream",
     "text": [
      "  0.897786 seconds (38.41 M allocations: 798.833 MiB, 5.46% gc time)\n"
     ]
    }
   ],
   "source": [
    "@time VFI(model);"
   ]
  },
  {
   "cell_type": "code",
   "execution_count": 6,
   "metadata": {
    "scrolled": true
   },
   "outputs": [
    {
     "data": {
      "text/plain": [
       "BenchmarkTools.Trial: \n",
       "  memory estimate:  798.83 MiB\n",
       "  allocs estimate:  38412098\n",
       "  --------------\n",
       "  minimum time:     876.951 ms (6.15% GC)\n",
       "  median time:      888.697 ms (6.11% GC)\n",
       "  mean time:        898.802 ms (6.03% GC)\n",
       "  maximum time:     947.577 ms (5.99% GC)\n",
       "  --------------\n",
       "  samples:          6\n",
       "  evals/sample:     1"
      ]
     },
     "execution_count": 6,
     "metadata": {},
     "output_type": "execute_result"
    }
   ],
   "source": [
    "@benchmark VFI(model)"
   ]
  },
  {
   "cell_type": "code",
   "execution_count": 7,
   "metadata": {},
   "outputs": [
    {
     "name": "stdout",
     "output_type": "stream",
     "text": [
      "Variables:\n",
      "  #self# <optimized out>\n",
      "  m::Model\n",
      "  i\u001b[1m\u001b[91m::Core.Box\u001b[39m\u001b[22m\n",
      "  objective::#objective#2{Float64,Float64,Float64,StepRangeLen{Float64,Base.TwicePrecision{Float64},Base.TwicePrecision{Float64}},#u#1{Float64}}\n",
      "  res\u001b[1m\u001b[91m::Optim.UnivariateOptimizationResults{Float64,Float64,_,Float64,Optim.GoldenSection,Optim.GoldenSection} where _\u001b[39m\u001b[22m\n",
      "  #temp#@_6::Int64\n",
      "  itp\u001b[1m\u001b[91m::Core.Box\u001b[39m\u001b[22m\n",
      "  temp::Float64\n",
      "  beta::Float64\n",
      "  sigma::Float64\n",
      "  delta::Float64\n",
      "  alpha::Float64\n",
      "  amin::Float64\n",
      "  amax::Float64\n",
      "  na <optimized out>\n",
      "  maxiter <optimized out>\n",
      "  tol <optimized out>\n",
      "  aterm::Float64\n",
      "  astar::Float64\n",
      "  agrid::StepRangeLen{Float64,Base.TwicePrecision{Float64},Base.TwicePrecision{Float64}}\n",
      "  u::#u#1{Float64}\n",
      "  v0::Array{Float64,1}\n",
      "  Tv::Array{Float64,1}\n",
      "  pol_a <optimized out>\n",
      "  iter@_25::Float64\n",
      "  error::Float64\n",
      "  #temp#@_27::Bool\n",
      "  #temp#@_28::Float64\n",
      "  fy::Float64\n",
      "  T <optimized out>\n",
      "  shape <optimized out>\n",
      "  iter@_32 <optimized out>\n",
      "  C::Array{Float64,1}\n",
      "  keeps@_34::Tuple{Tuple{Bool}}\n",
      "  Idefaults@_35::Tuple{Tuple{Int64}}\n",
      "  #temp#@_36 <optimized out>\n",
      "  keeps@_37 <optimized out>\n",
      "  Idefaults@_38 <optimized out>\n",
      "  #temp#@_39 <optimized out>\n",
      "  keep@_40::Tuple{Bool}\n",
      "  Idefault@_41::Tuple{Int64}\n",
      "  #temp#@_42 <optimized out>\n",
      "  ind1 <optimized out>\n",
      "  keep@_44 <optimized out>\n",
      "  Idefault@_45 <optimized out>\n",
      "  #temp#@_46 <optimized out>\n",
      "  I_1 <optimized out>\n",
      "  val_1::Float64\n",
      "  result::Float64\n",
      "  I@_50 <optimized out>\n",
      "  i#688::Int64\n",
      "  I@_52 <optimized out>\n",
      "  n#687::Int64\n",
      "  i#686 <optimized out>\n",
      "  #temp#@_55::Bool\n",
      "  r#685 <optimized out>\n",
      "  A_1 <optimized out>\n",
      "  keep_1::Tuple{Bool}\n",
      "  Idefault_1::Tuple{Int64}\n",
      "  #temp#@_60 <optimized out>\n",
      "\n",
      "Body:\n",
      "  begin \n",
      "      beta::Float64 = (Core.getfield)(m::Model, :beta)::Float64 # line 12:\n",
      "      sigma::Float64 = (Core.getfield)(m::Model, :sigma)::Float64 # line 13:\n",
      "      delta::Float64 = (Core.getfield)(m::Model, :delta)::Float64 # line 14:\n",
      "      alpha::Float64 = (Core.getfield)(m::Model, :alpha)::Float64 # line 18:\n",
      "      aterm::Float64 = (Base.sub_float)((Base.div_float)(1.0, beta::Float64)::Float64, (Base.sub_float)(1.0, delta::Float64)::Float64)::Float64 # line 19:\n",
      "      astar::Float64 = (Base.div_float)(alpha::Float64, aterm::Float64)::Float64 # line 20:\n",
      "      SSAValue(9) = (Base.div_float)(1.0, (Base.sub_float)(1.0, alpha::Float64)::Float64)::Float64\n",
      "      $(Expr(:inbounds, false))\n",
      "      # meta: location math.jl ^ 699\n",
      "      SSAValue(12) = $(Expr(:foreigncall, \"llvm.pow.f64\", Float64, svec(Float64, Float64), :(astar), 0, SSAValue(9), 0, :($(Expr(:llvmcall)))))\n",
      "      SSAValue(13) = (Base.add_float)(astar::Float64, SSAValue(9))::Float64\n",
      "      # meta: location math.jl nan_dom_err 300\n",
      "      unless (Base.and_int)((Base.ne_float)(SSAValue(12), SSAValue(12))::Bool, (Base.not_int)((Base.ne_float)(SSAValue(13), SSAValue(13))::Bool)::Bool)::Bool goto 22\n",
      "      #temp#@_28::Float64 = (Base.Math.throw)($(QuoteNode(DomainError())))\u001b[1m\u001b[91m::Union{}\u001b[39m\u001b[22m\n",
      "      goto 24\n",
      "      22: \n",
      "      #temp#@_28::Float64 = SSAValue(12)\n",
      "      24: \n",
      "      # meta: pop location\n",
      "      # meta: pop location\n",
      "      $(Expr(:inbounds, :pop))\n",
      "      astar::Float64 = #temp#@_28::Float64 # line 23:\n",
      "      amin::Float64 = (Base.mul_float)(0.1, astar::Float64)::Float64 # line 24:\n",
      "      amax::Float64 = (Base.mul_float)(2.0, astar::Float64)::Float64 # line 26:\n",
      "      agrid::StepRangeLen{Float64,Base.TwicePrecision{Float64},Base.TwicePrecision{Float64}} = $(Expr(:invoke, MethodInstance for linspace(::Float64, ::Float64, ::Int64), :(Main.linspace), :(amin), :(amax), 250)) # line 31:\n",
      "      u::#u#1{Float64} = $(Expr(:new, #u#1{Float64}, :(sigma))) # line 33:\n",
      "      SSAValue(0) = $(Expr(:invoke, MethodInstance for fill!(::Array{Float64,1}, ::Float64), :(Base.fill!), :($(Expr(:foreigncall, :(:jl_alloc_array_1d), Array{Float64,1}, svec(Any, Int64), Array{Float64,1}, 0, 250, 0))), :((Base.sitofp)(Float64, 0)::Float64)))\n",
      "      v0::Array{Float64,1} = SSAValue(0) # line 34:\n",
      "      $(Expr(:inbounds, false))\n",
      "      # meta: location array.jl similar 189\n",
      "      SSAValue(15) = (Base.arraysize)(v0::Array{Float64,1}, 1)::Int64\n",
      "      # meta: pop location\n",
      "      $(Expr(:inbounds, :pop))\n",
      "      Tv::Array{Float64,1} = $(Expr(:foreigncall, :(:jl_alloc_array_1d), Array{Float64,1}, svec(Any, Int64), Array{Float64,1}, 0, SSAValue(15), 0)) # line 35:\n",
      "      SSAValue(1) = $(Expr(:invoke, MethodInstance for fill!(::Array{Float64,1}, ::Float64), :(Base.fill!), :($(Expr(:foreigncall, :(:jl_alloc_array_1d), Array{Float64,1}, svec(Any, Int64), Array{Float64,1}, 0, 250, 0))), :((Base.sitofp)(Float64, 0)::Float64))) # line 40:\n",
      "      iter@_25::Float64 = 0.1 # line 41:\n",
      "      error::Float64 = 10.0 # line 45:\n",
      "      itp\u001b[1m\u001b[91m::Core.Box\u001b[39m\u001b[22m = $(Expr(:new, :(Core.Box)))\n",
      "      NewvarNode(:(temp::Float64))\n",
      "      56: \n",
      "      $(Expr(:inbounds, false))\n",
      "      # meta: location float.jl < 491\n",
      "      fy::Float64 = (Base.sitofp)(Float64, 300)::Float64\n",
      "      # meta: pop location\n",
      "      $(Expr(:inbounds, :pop))\n",
      "      unless (Base.or_int)((Base.lt_float)(iter@_25::Float64, fy::Float64)::Bool, (Base.and_int)((Base.and_int)((Base.eq_float)(iter@_25::Float64, fy::Float64)::Bool, (Base.lt_float)(fy::Float64, 9.223372036854776e18)::Bool)::Bool, (Base.slt_int)((Base.fptosi)(Int64, fy::Float64)::Int64, 300)::Bool)::Bool)::Bool goto 65\n",
      "      #temp#@_27::Bool = (Base.lt_float)(1.0e-5, error::Float64)::Bool\n",
      "      goto 67\n",
      "      65: \n",
      "      #temp#@_27::Bool = false\n",
      "      67: \n",
      "      unless #temp#@_27::Bool goto 217 # line 46:\n",
      "      SSAValue(2) = $(Expr(:invoke, MethodInstance for scale(::Interpolations.BSplineInterpolation{Float64,1,Array{Float64,1},Interpolations.BSpline{Interpolations.Cubic{Interpolations.Line}},Interpolations.OnGrid,1}, ::StepRangeLen{Float64,Base.TwicePrecision{Float64},Base.TwicePrecision{Float64}}, ::Vararg{StepRangeLen{Float64,Base.TwicePrecision{Float64},Base.TwicePrecision{Float64}},N} where N), :(Main.scale), :($(Expr(:invoke, MethodInstance for interpolate(::Type{Float64}, ::Type{Float64}, ::Array{Float64,1}, ::Interpolations.BSpline{Interpolations.Cubic{Interpolations.Line}}, ::Interpolations.OnGrid), :(Interpolations.interpolate), Float64, Float64, :(v0), :($(QuoteNode(Interpolations.BSpline{Interpolations.Cubic{Interpolations.Line}}()))), :($(QuoteNode(Interpolations.OnGrid())))))), :(agrid)))\n",
      "      (Core.setfield!)(itp\u001b[1m\u001b[91m::Core.Box\u001b[39m\u001b[22m, :contents, SSAValue(2))::Interpolations.ScaledInterpolation{Float64,1,Interpolations.BSplineInterpolation{Float64,1,Array{Float64,1},Interpolations.BSpline{Interpolations.Cubic{Interpolations.Line}},Interpolations.OnGrid,1},Interpolations.BSpline{Interpolations.Cubic{Interpolations.Line}},Interpolations.OnGrid,Tuple{StepRangeLen{Float64,Base.TwicePrecision{Float64},Base.TwicePrecision{Float64}}}} # line 49:\n",
      "      temp::Float64 = amin::Float64 # line 50:\n",
      "      SSAValue(72) = (Base.select_value)((Base.sle_int)(1, 250)::Bool, 250, (Base.sub_int)(1, 1)::Int64)::Int64\n",
      "      #temp#@_6::Int64 = 1\n",
      "      77: \n",
      "      unless (Base.not_int)((#temp#@_6::Int64 === (Base.add_int)(SSAValue(72), 1)::Int64)::Bool)::Bool goto 103\n",
      "      i\u001b[1m\u001b[91m::Core.Box\u001b[39m\u001b[22m = $(Expr(:new, :(Core.Box)))\n",
      "      SSAValue(73) = #temp#@_6::Int64\n",
      "      SSAValue(74) = (Base.add_int)(#temp#@_6::Int64, 1)::Int64\n",
      "      SSAValue(5) = SSAValue(73)\n",
      "      (Core.setfield!)(i\u001b[1m\u001b[91m::Core.Box\u001b[39m\u001b[22m, :contents, SSAValue(5))::Int64\n",
      "      #temp#@_6::Int64 = SSAValue(74) # line 51:\n",
      "      objective::#objective#2{Float64,Float64,Float64,StepRangeLen{Float64,Base.TwicePrecision{Float64},Base.TwicePrecision{Float64}},#u#1{Float64}} = $(Expr(:new, #objective#2{Float64,Float64,Float64,StepRangeLen{Float64,Base.TwicePrecision{Float64},Base.TwicePrecision{Float64}},#u#1{Float64}}, :(i), :(itp), :(beta), :(delta), :(alpha), :(agrid), :(u))) # line 52:\n",
      "      res\u001b[1m\u001b[91m::Optim.UnivariateOptimizationResults{Float64,Float64,_,Float64,Optim.GoldenSection,Optim.GoldenSection} where _\u001b[39m\u001b[22m = (Main.optimize)(objective::#objective#2{Float64,Float64,Float64,StepRangeLen{Float64,Base.TwicePrecision{Float64},Base.TwicePrecision{Float64}},#u#1{Float64}}, temp::Float64, (((Main.getindex)(agrid::StepRangeLen{Float64,Base.TwicePrecision{Float64},Base.TwicePrecision{Float64}}, (Core.getfield)(i\u001b[1m\u001b[91m::Core.Box\u001b[39m\u001b[22m, :contents)\u001b[1m\u001b[91m::Any\u001b[39m\u001b[22m)\u001b[1m\u001b[91m::Any\u001b[39m\u001b[22m ^ alpha::Float64)\u001b[1m\u001b[91m::Any\u001b[39m\u001b[22m + ((Base.sub_float)(1.0, delta::Float64)::Float64 * (Main.getindex)(agrid::StepRangeLen{Float64,Base.TwicePrecision{Float64},Base.TwicePrecision{Float64}}, (Core.getfield)(i\u001b[1m\u001b[91m::Core.Box\u001b[39m\u001b[22m, :contents)\u001b[1m\u001b[91m::Any\u001b[39m\u001b[22m)\u001b[1m\u001b[91m::Any\u001b[39m\u001b[22m)\u001b[1m\u001b[91m::Any\u001b[39m\u001b[22m)\u001b[1m\u001b[91m::Any\u001b[39m\u001b[22m, $(QuoteNode(Optim.GoldenSection())))\u001b[1m\u001b[91m::Optim.UnivariateOptimizationResults{Float64,Float64,_,Float64,Optim.GoldenSection,Optim.GoldenSection} where _\u001b[39m\u001b[22m # line 53:\n",
      "      $(Expr(:inbounds, true))\n",
      "      SSAValue(6) = (Core.getfield)(res\u001b[1m\u001b[91m::Optim.UnivariateOptimizationResults{Float64,Float64,_,Float64,Optim.GoldenSection,Optim.GoldenSection} where _\u001b[39m\u001b[22m, :minimizer)::Float64\n",
      "      (Main.setindex!)(SSAValue(1), SSAValue(6), (Core.getfield)(i\u001b[1m\u001b[91m::Core.Box\u001b[39m\u001b[22m, :contents)\u001b[1m\u001b[91m::Any\u001b[39m\u001b[22m)\u001b[1m\u001b[91m::Any\u001b[39m\u001b[22m\n",
      "      $(Expr(:inbounds, :pop)) # line 54:\n",
      "      temp::Float64 = (Core.getfield)(res\u001b[1m\u001b[91m::Optim.UnivariateOptimizationResults{Float64,Float64,_,Float64,Optim.GoldenSection,Optim.GoldenSection} where _\u001b[39m\u001b[22m, :minimizer)::Float64 # line 55:\n",
      "      $(Expr(:inbounds, true))\n",
      "      SSAValue(7) = -((Core.getfield)(res\u001b[1m\u001b[91m::Optim.UnivariateOptimizationResults{Float64,Float64,_,Float64,Optim.GoldenSection,Optim.GoldenSection} where _\u001b[39m\u001b[22m, :minimum)\u001b[1m\u001b[91m::Any\u001b[39m\u001b[22m)\u001b[1m\u001b[91m::Any\u001b[39m\u001b[22m\n",
      "      (Main.setindex!)(Tv::Array{Float64,1}, SSAValue(7), (Core.getfield)(i\u001b[1m\u001b[91m::Core.Box\u001b[39m\u001b[22m, :contents)\u001b[1m\u001b[91m::Any\u001b[39m\u001b[22m)\u001b[1m\u001b[91m::Any\u001b[39m\u001b[22m\n",
      "      $(Expr(:inbounds, :pop))\n",
      "      101: \n",
      "      goto 77\n",
      "      103:  # line 58:\n",
      "      SSAValue(18) = $(Expr(:invoke, MethodInstance for -(::Array{Float64,1}, ::Array{Float64,1}), :(Main.-), :(Tv), :(v0)))\n",
      "      $(Expr(:inbounds, false))\n",
      "      # meta: location broadcast.jl broadcast 455\n",
      "      # meta: location broadcast.jl broadcast_c 313\n",
      "      # meta: location broadcast.jl broadcast_indices 48\n",
      "      # meta: location broadcast.jl broadcast_indices 52\n",
      "      # meta: location abstractarray.jl indices 64\n",
      "      SSAValue(21) = (Base.arraysize)(SSAValue(18), 1)::Int64\n",
      "      # meta: pop location\n",
      "      # meta: pop location\n",
      "      # meta: pop location\n",
      "      SSAValue(67) = (Base.select_value)((Base.slt_int)(SSAValue(21), 0)::Bool, 0, SSAValue(21))::Int64 # line 316:\n",
      "      # meta: location broadcast.jl broadcast_t 268\n",
      "      C::Array{Float64,1} = $(Expr(:foreigncall, :(:jl_alloc_array_1d), Array{Float64,1}, svec(Any, Int64), Array{Float64,1}, 0, SSAValue(67), 0)) # line 269:\n",
      "      # meta: location broadcast.jl map_newindexer 125 # line 126:\n",
      "      # meta: location broadcast.jl newindexer 108\n",
      "      # meta: location broadcast.jl broadcast_indices 48\n",
      "      # meta: location broadcast.jl broadcast_indices 52\n",
      "      # meta: location abstractarray.jl indices 64\n",
      "      SSAValue(34) = (Base.arraysize)(SSAValue(18), 1)::Int64\n",
      "      # meta: pop location\n",
      "      # meta: pop location\n",
      "      # meta: pop location\n",
      "      # meta: location broadcast.jl shapeindexer 111\n",
      "      SSAValue(46) = (Base.select_value)((Base.slt_int)(SSAValue(34), 0)::Bool, 0, SSAValue(34))::Int64\n",
      "      # meta: pop location\n",
      "      # meta: pop location\n",
      "      SSAValue(47) = (Core.tuple)((Base.and_int)((Base.and_int)((1 === 1)::Bool, (1 === 1)::Bool)::Bool, (SSAValue(67) === SSAValue(46))::Bool)::Bool)::Tuple{Bool}\n",
      "      SSAValue(48) = (Core.tuple)(1)::Tuple{Int64}\n",
      "      keep@_40::Tuple{Bool} = SSAValue(47)\n",
      "      Idefault@_41::Tuple{Int64} = SSAValue(48)\n",
      "      # meta: pop location\n",
      "      SSAValue(62) = (Core.tuple)(keep@_40::Tuple{Bool})::Tuple{Tuple{Bool}}\n",
      "      SSAValue(63) = (Core.tuple)(Idefault@_41::Tuple{Int64})::Tuple{Tuple{Int64}}\n",
      "      keeps@_34::Tuple{Tuple{Bool}} = SSAValue(62)\n",
      "      Idefaults@_35::Tuple{Tuple{Int64}} = SSAValue(63) # line 270:\n",
      "      # meta: location broadcast.jl _broadcast! 141\n",
      "      # meta: location broadcast.jl # line 147:\n",
      "      keep_1::Tuple{Bool} = (Base.getfield)(keeps@_34::Tuple{Tuple{Bool}}, 1)::Tuple{Bool} # line 148:\n",
      "      Idefault_1::Tuple{Int64} = (Base.getfield)(Idefaults@_35::Tuple{Tuple{Int64}}, 1)::Tuple{Int64} # line 149:\n",
      "      # meta: location simdloop.jl # line 66:\n",
      "      #temp#@_55::Bool = false\n",
      "      155: \n",
      "      unless (Base.not_int)(#temp#@_55::Bool)::Bool goto 198\n",
      "      #temp#@_55::Bool = true # line 67:\n",
      "      n#687::Int64 = (Base.add_int)((Base.sub_int)(SSAValue(67), 1)::Int64, 1)::Int64 # line 68:\n",
      "      unless (Base.slt_int)(0, n#687::Int64)::Bool goto 196 # line 70:\n",
      "      i#688::Int64 = 0 # line 71:\n",
      "      NewvarNode(:(val_1::Float64))\n",
      "      NewvarNode(:(result::Float64))\n",
      "      167: \n",
      "      unless (Base.slt_int)(i#688::Int64, n#687::Int64)::Bool goto 194 # line 72:\n",
      "      SSAValue(59) = (Base.add_int)(i#688::Int64, 1)::Int64 # line 73:\n",
      "      # meta: location broadcast.jl # line 151:\n",
      "      SSAValue(61) = (Base.select_value)((Base.getfield)(keep_1::Tuple{Bool}, 1)::Bool, SSAValue(59), (Base.getfield)(Idefault_1::Tuple{Int64}, 1)::Int64)::Int64 # line 153:\n",
      "      $(Expr(:inbounds, true))\n",
      "      val_1::Float64 = (Base.arrayref)(SSAValue(18), SSAValue(61))::Float64\n",
      "      $(Expr(:inbounds, :pop)) # line 155:\n",
      "      result::Float64 = (Base.abs_float)(val_1::Float64)::Float64 # line 156:\n",
      "      $(Expr(:inbounds, true))\n",
      "      # meta: location multidimensional.jl setindex! 300\n",
      "      (Base.arrayset)(C::Array{Float64,1}, result::Float64, SSAValue(59))::Array{Float64,1}\n",
      "      # meta: pop location\n",
      "      $(Expr(:inbounds, :pop))\n",
      "      # meta: pop location # line 74:\n",
      "      i#688::Int64 = (Base.add_int)(i#688::Int64, 1)::Int64 # line 75:\n",
      "      $(Expr(:simdloop))\n",
      "      192: \n",
      "      goto 167\n",
      "      194:  # line 79:\n",
      "      196: \n",
      "      goto 155\n",
      "      198: \n",
      "      # meta: pop location\n",
      "      # meta: pop location\n",
      "      # meta: pop location\n",
      "      # meta: pop location\n",
      "      goto 205 # line 321:\n",
      "      205: \n",
      "      # meta: pop location\n",
      "      # meta: pop location\n",
      "      $(Expr(:inbounds, :pop))\n",
      "      error::Float64 = $(Expr(:invoke, MethodInstance for _mapreduce(::Base.#identity, ::Base.#scalarmax, ::IndexLinear, ::Array{Float64,1}), :(Base._mapreduce), :(Base.identity), :(Base.scalarmax), :($(QuoteNode(IndexLinear()))), :(C))) # line 59:\n",
      "      SSAValue(8) = $(Expr(:foreigncall, :(:jl_array_copy), Ref{Array{Float64,1}}, svec(Any), :(Tv), 0))\n",
      "      v0::Array{Float64,1} = SSAValue(8) # line 60:\n",
      "      iter@_25::Float64 = (Base.add_float)(iter@_25::Float64, (Base.sitofp)(Float64, 1)::Float64)::Float64\n",
      "      215: \n",
      "      goto 56\n",
      "      217:  # line 63:\n",
      "      return (Core.tuple)(agrid::StepRangeLen{Float64,Base.TwicePrecision{Float64},Base.TwicePrecision{Float64}}, v0::Array{Float64,1}, SSAValue(1))::Tuple{StepRangeLen{Float64,Base.TwicePrecision{Float64},Base.TwicePrecision{Float64}},Array{Float64,1},Array{Float64,1}}\n",
      "  end::Tuple{StepRangeLen{Float64,Base.TwicePrecision{Float64},Base.TwicePrecision{Float64}},Array{Float64,1},Array{Float64,1}}\n"
     ]
    }
   ],
   "source": [
    "@code_warntype VFI(model)"
   ]
  },
  {
   "cell_type": "code",
   "execution_count": 8,
   "metadata": {},
   "outputs": [
    {
     "data": {
      "text/html": [
       "<img src=\"data:image/png;base64,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\" />"
      ]
     },
     "execution_count": 8,
     "metadata": {},
     "output_type": "execute_result"
    }
   ],
   "source": [
    "plot(agrid,pol_a, label=\"policy function\",color=\"blue\",linewidth=1.5)\n",
    "plot!(agrid,agrid, label=\"45 degree\",color=\"red\",linewidth=1.5)"
   ]
  },
  {
   "cell_type": "code",
   "execution_count": 9,
   "metadata": {},
   "outputs": [
    {
     "data": {
      "text/html": [
       "<img src=\"data:image/png;base64,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\" />"
      ]
     },
     "execution_count": 9,
     "metadata": {},
     "output_type": "execute_result"
    }
   ],
   "source": [
    "plot(agrid,v0,label=\"value function\",color=\"blue\",linewidth=1.5)"
   ]
  }
 ],
 "metadata": {
  "kernelspec": {
   "display_name": "Julia 0.6.2",
   "language": "julia",
   "name": "julia-0.6"
  },
  "language_info": {
   "file_extension": ".jl",
   "mimetype": "application/julia",
   "name": "julia",
   "version": "0.6.2"
  },
  "latex_envs": {
   "LaTeX_envs_menu_present": true,
   "autoclose": true,
   "autocomplete": true,
   "bibliofile": "biblio.bib",
   "cite_by": "apalike",
   "current_citInitial": 1,
   "eqLabelWithNumbers": true,
   "eqNumInitial": 1,
   "hotkeys": {
    "equation": "Ctrl-E",
    "itemize": "Ctrl-I"
   },
   "labels_anchors": false,
   "latex_user_defs": false,
   "report_style_numbering": false,
   "user_envs_cfg": false
  },
  "toc": {
   "nav_menu": {},
   "number_sections": true,
   "sideBar": true,
   "skip_h1_title": false,
   "title_cell": "Table of Contents",
   "title_sidebar": "Contents",
   "toc_cell": false,
   "toc_position": {},
   "toc_section_display": true,
   "toc_window_display": false
  },
  "varInspector": {
   "cols": {
    "lenName": 16,
    "lenType": 16,
    "lenVar": 40
   },
   "kernels_config": {
    "python": {
     "delete_cmd_postfix": "",
     "delete_cmd_prefix": "del ",
     "library": "var_list.py",
     "varRefreshCmd": "print(var_dic_list())"
    },
    "r": {
     "delete_cmd_postfix": ") ",
     "delete_cmd_prefix": "rm(",
     "library": "var_list.r",
     "varRefreshCmd": "cat(var_dic_list()) "
    }
   },
   "types_to_exclude": [
    "module",
    "function",
    "builtin_function_or_method",
    "instance",
    "_Feature"
   ],
   "window_display": false
  }
 },
 "nbformat": 4,
 "nbformat_minor": 2
}
